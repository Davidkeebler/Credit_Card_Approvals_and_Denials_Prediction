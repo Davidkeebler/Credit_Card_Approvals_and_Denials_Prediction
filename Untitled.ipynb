{
 "cells": [
  {
   "cell_type": "markdown",
   "metadata": {},
   "source": [
    "# Overview\n",
    "\n",
    "This project attempts to create a binary classification model that can predict whether or not a given individual will qualify for a new credit card based on 17 factors. The data can be publicly accessed through [kaggle](https://www.kaggle.com/datasets/rohitudageri/credit-card-details?select=Credit_card.csv), although no explaination was given as to how it was assembled or curated. Credit Card approval officers at financial institutions may use this statistical model and the following analysis of coefficients to to assist in determining whether or not to grant a new credit card to a given individual.\n",
    "\n",
    "# Business Problem\n",
    "\n",
    "Approving credit card applications can be a difficult and time consuming process, but using data on previous approvals, we can easily and quickly determine whether or not the bank should approve new applications. This can potentially save financial institutions a significant amount of time, money, and manpower. The coefficient weights of the resulting model of this study may also give insight into which features are actually the most important for the approval process.\n",
    "\n",
    "# Data Explaination\n",
    "\n",
    "For each record, the data contains:\n",
    " - The gender of the applicant\n",
    " - Whether the applicant owns a car\n",
    " - whether the applicant owns a house or condo\n",
    " - The number of children the applicant has\n",
    " - The applicant's annual income\n",
    " - The source of the applicant's income\n",
    " - Highest level of education achieved by applicant\n",
    " - Marital status of the applicant\n",
    " - Housing type of applicant (if applicable)\n",
    " - A backwards count to the applicant's birthday starting at the day the data was created\n",
    " - A backwards count to the day the applicant became employed (positive value means number of days they have been unemployed)\n",
    " - Whether or not the applicant has a mobile phone\n",
    " - Whether or not the applicant has a work phone\n",
    " - Whether or not the applicant has any other phone number\n",
    " - Whether or not the applicant has an email ID\n",
    " - The type of occupation of the applicant\n",
    " - The number of family members the applicant has\n",
    " - Whether or not the application was approved"
   ]
  },
  {
   "cell_type": "code",
   "execution_count": 1,
   "metadata": {},
   "outputs": [],
   "source": [
    "# Importing packages\n",
    "import pandas as pd\n",
    "import numpy as np\n",
    "\n",
    "import matplotlib.pyplot as plt\n",
    "import seaborn as sns\n",
    "\n",
    "from sklearn.preprocessing import MinMaxScaler\n",
    "from sklearn.model_selection import train_test_split, GridSearchCV\n",
    "\n",
    "from sklearn.linear_model import LogisticRegression\n",
    "from sklearn.tree import DecisionTreeClassifier\n",
    "from sklearn.ensemble import RandomForestClassifier\n",
    "\n",
    "from sklearn.metrics import roc_curve, auc\n",
    "from sklearn.metrics import confusion_matrix, ConfusionMatrixDisplay\n",
    "from sklearn.metrics import precision_score, recall_score, accuracy_score, f1_score, classification_report\n",
    "\n",
    "from imblearn.over_sampling import SMOTE\n",
    "\n",
    "plt.style.use('seaborn-whitegrid')\n",
    "%matplotlib inline"
   ]
  },
  {
   "cell_type": "code",
   "execution_count": 2,
   "metadata": {},
   "outputs": [
    {
     "data": {
      "text/plain": [
       "['Solarize_Light2',\n",
       " '_classic_test_patch',\n",
       " 'bmh',\n",
       " 'classic',\n",
       " 'dark_background',\n",
       " 'fast',\n",
       " 'fivethirtyeight',\n",
       " 'ggplot',\n",
       " 'grayscale',\n",
       " 'seaborn',\n",
       " 'seaborn-bright',\n",
       " 'seaborn-colorblind',\n",
       " 'seaborn-dark',\n",
       " 'seaborn-dark-palette',\n",
       " 'seaborn-darkgrid',\n",
       " 'seaborn-deep',\n",
       " 'seaborn-muted',\n",
       " 'seaborn-notebook',\n",
       " 'seaborn-paper',\n",
       " 'seaborn-pastel',\n",
       " 'seaborn-poster',\n",
       " 'seaborn-talk',\n",
       " 'seaborn-ticks',\n",
       " 'seaborn-white',\n",
       " 'seaborn-whitegrid',\n",
       " 'tableau-colorblind10']"
      ]
     },
     "execution_count": 2,
     "metadata": {},
     "output_type": "execute_result"
    }
   ],
   "source": [
    "plt.style.available"
   ]
  },
  {
   "cell_type": "markdown",
   "metadata": {},
   "source": [
    "# Data preparation\n",
    "\n",
    "The first step is to load the data and prepare it for machine learning."
   ]
  },
  {
   "cell_type": "code",
   "execution_count": 3,
   "metadata": {},
   "outputs": [
    {
     "data": {
      "text/html": [
       "<div>\n",
       "<style scoped>\n",
       "    .dataframe tbody tr th:only-of-type {\n",
       "        vertical-align: middle;\n",
       "    }\n",
       "\n",
       "    .dataframe tbody tr th {\n",
       "        vertical-align: top;\n",
       "    }\n",
       "\n",
       "    .dataframe thead th {\n",
       "        text-align: right;\n",
       "    }\n",
       "</style>\n",
       "<table border=\"1\" class=\"dataframe\">\n",
       "  <thead>\n",
       "    <tr style=\"text-align: right;\">\n",
       "      <th></th>\n",
       "      <th>Ind_ID</th>\n",
       "      <th>GENDER</th>\n",
       "      <th>Car_Owner</th>\n",
       "      <th>Propert_Owner</th>\n",
       "      <th>CHILDREN</th>\n",
       "      <th>Annual_income</th>\n",
       "      <th>Type_Income</th>\n",
       "      <th>EDUCATION</th>\n",
       "      <th>Marital_status</th>\n",
       "      <th>Housing_type</th>\n",
       "      <th>Birthday_count</th>\n",
       "      <th>Employed_days</th>\n",
       "      <th>Mobile_phone</th>\n",
       "      <th>Work_Phone</th>\n",
       "      <th>Phone</th>\n",
       "      <th>EMAIL_ID</th>\n",
       "      <th>Type_Occupation</th>\n",
       "      <th>Family_Members</th>\n",
       "    </tr>\n",
       "  </thead>\n",
       "  <tbody>\n",
       "    <tr>\n",
       "      <th>0</th>\n",
       "      <td>5008827</td>\n",
       "      <td>M</td>\n",
       "      <td>Y</td>\n",
       "      <td>Y</td>\n",
       "      <td>0</td>\n",
       "      <td>180000.0</td>\n",
       "      <td>Pensioner</td>\n",
       "      <td>Higher education</td>\n",
       "      <td>Married</td>\n",
       "      <td>House / apartment</td>\n",
       "      <td>-18772.0</td>\n",
       "      <td>365243</td>\n",
       "      <td>1</td>\n",
       "      <td>0</td>\n",
       "      <td>0</td>\n",
       "      <td>0</td>\n",
       "      <td>NaN</td>\n",
       "      <td>2</td>\n",
       "    </tr>\n",
       "    <tr>\n",
       "      <th>1</th>\n",
       "      <td>5009744</td>\n",
       "      <td>F</td>\n",
       "      <td>Y</td>\n",
       "      <td>N</td>\n",
       "      <td>0</td>\n",
       "      <td>315000.0</td>\n",
       "      <td>Commercial associate</td>\n",
       "      <td>Higher education</td>\n",
       "      <td>Married</td>\n",
       "      <td>House / apartment</td>\n",
       "      <td>-13557.0</td>\n",
       "      <td>-586</td>\n",
       "      <td>1</td>\n",
       "      <td>1</td>\n",
       "      <td>1</td>\n",
       "      <td>0</td>\n",
       "      <td>NaN</td>\n",
       "      <td>2</td>\n",
       "    </tr>\n",
       "    <tr>\n",
       "      <th>2</th>\n",
       "      <td>5009746</td>\n",
       "      <td>F</td>\n",
       "      <td>Y</td>\n",
       "      <td>N</td>\n",
       "      <td>0</td>\n",
       "      <td>315000.0</td>\n",
       "      <td>Commercial associate</td>\n",
       "      <td>Higher education</td>\n",
       "      <td>Married</td>\n",
       "      <td>House / apartment</td>\n",
       "      <td>NaN</td>\n",
       "      <td>-586</td>\n",
       "      <td>1</td>\n",
       "      <td>1</td>\n",
       "      <td>1</td>\n",
       "      <td>0</td>\n",
       "      <td>NaN</td>\n",
       "      <td>2</td>\n",
       "    </tr>\n",
       "    <tr>\n",
       "      <th>3</th>\n",
       "      <td>5009749</td>\n",
       "      <td>F</td>\n",
       "      <td>Y</td>\n",
       "      <td>N</td>\n",
       "      <td>0</td>\n",
       "      <td>NaN</td>\n",
       "      <td>Commercial associate</td>\n",
       "      <td>Higher education</td>\n",
       "      <td>Married</td>\n",
       "      <td>House / apartment</td>\n",
       "      <td>-13557.0</td>\n",
       "      <td>-586</td>\n",
       "      <td>1</td>\n",
       "      <td>1</td>\n",
       "      <td>1</td>\n",
       "      <td>0</td>\n",
       "      <td>NaN</td>\n",
       "      <td>2</td>\n",
       "    </tr>\n",
       "    <tr>\n",
       "      <th>4</th>\n",
       "      <td>5009752</td>\n",
       "      <td>F</td>\n",
       "      <td>Y</td>\n",
       "      <td>N</td>\n",
       "      <td>0</td>\n",
       "      <td>315000.0</td>\n",
       "      <td>Commercial associate</td>\n",
       "      <td>Higher education</td>\n",
       "      <td>Married</td>\n",
       "      <td>House / apartment</td>\n",
       "      <td>-13557.0</td>\n",
       "      <td>-586</td>\n",
       "      <td>1</td>\n",
       "      <td>1</td>\n",
       "      <td>1</td>\n",
       "      <td>0</td>\n",
       "      <td>NaN</td>\n",
       "      <td>2</td>\n",
       "    </tr>\n",
       "  </tbody>\n",
       "</table>\n",
       "</div>"
      ],
      "text/plain": [
       "    Ind_ID GENDER Car_Owner Propert_Owner  CHILDREN  Annual_income  \\\n",
       "0  5008827      M         Y             Y         0       180000.0   \n",
       "1  5009744      F         Y             N         0       315000.0   \n",
       "2  5009746      F         Y             N         0       315000.0   \n",
       "3  5009749      F         Y             N         0            NaN   \n",
       "4  5009752      F         Y             N         0       315000.0   \n",
       "\n",
       "            Type_Income         EDUCATION Marital_status       Housing_type  \\\n",
       "0             Pensioner  Higher education        Married  House / apartment   \n",
       "1  Commercial associate  Higher education        Married  House / apartment   \n",
       "2  Commercial associate  Higher education        Married  House / apartment   \n",
       "3  Commercial associate  Higher education        Married  House / apartment   \n",
       "4  Commercial associate  Higher education        Married  House / apartment   \n",
       "\n",
       "   Birthday_count  Employed_days  Mobile_phone  Work_Phone  Phone  EMAIL_ID  \\\n",
       "0        -18772.0         365243             1           0      0         0   \n",
       "1        -13557.0           -586             1           1      1         0   \n",
       "2             NaN           -586             1           1      1         0   \n",
       "3        -13557.0           -586             1           1      1         0   \n",
       "4        -13557.0           -586             1           1      1         0   \n",
       "\n",
       "  Type_Occupation  Family_Members  \n",
       "0             NaN               2  \n",
       "1             NaN               2  \n",
       "2             NaN               2  \n",
       "3             NaN               2  \n",
       "4             NaN               2  "
      ]
     },
     "execution_count": 3,
     "metadata": {},
     "output_type": "execute_result"
    }
   ],
   "source": [
    "# Load data and display first five rows\n",
    "df = pd.read_csv('data/Credit_card.csv')\n",
    "df.head()"
   ]
  },
  {
   "cell_type": "code",
   "execution_count": 4,
   "metadata": {},
   "outputs": [
    {
     "data": {
      "text/html": [
       "<div>\n",
       "<style scoped>\n",
       "    .dataframe tbody tr th:only-of-type {\n",
       "        vertical-align: middle;\n",
       "    }\n",
       "\n",
       "    .dataframe tbody tr th {\n",
       "        vertical-align: top;\n",
       "    }\n",
       "\n",
       "    .dataframe thead th {\n",
       "        text-align: right;\n",
       "    }\n",
       "</style>\n",
       "<table border=\"1\" class=\"dataframe\">\n",
       "  <thead>\n",
       "    <tr style=\"text-align: right;\">\n",
       "      <th></th>\n",
       "      <th>Ind_ID</th>\n",
       "      <th>label</th>\n",
       "    </tr>\n",
       "  </thead>\n",
       "  <tbody>\n",
       "    <tr>\n",
       "      <th>0</th>\n",
       "      <td>5008827</td>\n",
       "      <td>1</td>\n",
       "    </tr>\n",
       "    <tr>\n",
       "      <th>1</th>\n",
       "      <td>5009744</td>\n",
       "      <td>1</td>\n",
       "    </tr>\n",
       "    <tr>\n",
       "      <th>2</th>\n",
       "      <td>5009746</td>\n",
       "      <td>1</td>\n",
       "    </tr>\n",
       "    <tr>\n",
       "      <th>3</th>\n",
       "      <td>5009749</td>\n",
       "      <td>1</td>\n",
       "    </tr>\n",
       "    <tr>\n",
       "      <th>4</th>\n",
       "      <td>5009752</td>\n",
       "      <td>1</td>\n",
       "    </tr>\n",
       "  </tbody>\n",
       "</table>\n",
       "</div>"
      ],
      "text/plain": [
       "    Ind_ID  label\n",
       "0  5008827      1\n",
       "1  5009744      1\n",
       "2  5009746      1\n",
       "3  5009749      1\n",
       "4  5009752      1"
      ]
     },
     "execution_count": 4,
     "metadata": {},
     "output_type": "execute_result"
    }
   ],
   "source": [
    "# Load labels, which are stored in a separate CSV\n",
    "label = pd.read_csv('data/Credit_card_label.csv')\n",
    "label.head()"
   ]
  },
  {
   "cell_type": "code",
   "execution_count": 5,
   "metadata": {},
   "outputs": [],
   "source": [
    "# Merge the labels into the other data\n",
    "merged = pd.merge(df, label)"
   ]
  },
  {
   "cell_type": "code",
   "execution_count": 6,
   "metadata": {},
   "outputs": [
    {
     "data": {
      "text/html": [
       "<div>\n",
       "<style scoped>\n",
       "    .dataframe tbody tr th:only-of-type {\n",
       "        vertical-align: middle;\n",
       "    }\n",
       "\n",
       "    .dataframe tbody tr th {\n",
       "        vertical-align: top;\n",
       "    }\n",
       "\n",
       "    .dataframe thead th {\n",
       "        text-align: right;\n",
       "    }\n",
       "</style>\n",
       "<table border=\"1\" class=\"dataframe\">\n",
       "  <thead>\n",
       "    <tr style=\"text-align: right;\">\n",
       "      <th></th>\n",
       "      <th>Ind_ID</th>\n",
       "      <th>CHILDREN</th>\n",
       "      <th>Annual_income</th>\n",
       "      <th>Birthday_count</th>\n",
       "      <th>Employed_days</th>\n",
       "      <th>Mobile_phone</th>\n",
       "      <th>Work_Phone</th>\n",
       "      <th>Phone</th>\n",
       "      <th>EMAIL_ID</th>\n",
       "      <th>Family_Members</th>\n",
       "      <th>label</th>\n",
       "    </tr>\n",
       "  </thead>\n",
       "  <tbody>\n",
       "    <tr>\n",
       "      <th>count</th>\n",
       "      <td>1.548000e+03</td>\n",
       "      <td>1548.000000</td>\n",
       "      <td>1.525000e+03</td>\n",
       "      <td>1526.000000</td>\n",
       "      <td>1548.000000</td>\n",
       "      <td>1548.0</td>\n",
       "      <td>1548.000000</td>\n",
       "      <td>1548.000000</td>\n",
       "      <td>1548.000000</td>\n",
       "      <td>1548.000000</td>\n",
       "      <td>1548.000000</td>\n",
       "    </tr>\n",
       "    <tr>\n",
       "      <th>mean</th>\n",
       "      <td>5.078920e+06</td>\n",
       "      <td>0.412791</td>\n",
       "      <td>1.913993e+05</td>\n",
       "      <td>-16040.342071</td>\n",
       "      <td>59364.689922</td>\n",
       "      <td>1.0</td>\n",
       "      <td>0.208010</td>\n",
       "      <td>0.309432</td>\n",
       "      <td>0.092377</td>\n",
       "      <td>2.161499</td>\n",
       "      <td>0.113049</td>\n",
       "    </tr>\n",
       "    <tr>\n",
       "      <th>std</th>\n",
       "      <td>4.171759e+04</td>\n",
       "      <td>0.776691</td>\n",
       "      <td>1.132530e+05</td>\n",
       "      <td>4229.503202</td>\n",
       "      <td>137808.062701</td>\n",
       "      <td>0.0</td>\n",
       "      <td>0.406015</td>\n",
       "      <td>0.462409</td>\n",
       "      <td>0.289651</td>\n",
       "      <td>0.947772</td>\n",
       "      <td>0.316755</td>\n",
       "    </tr>\n",
       "    <tr>\n",
       "      <th>min</th>\n",
       "      <td>5.008827e+06</td>\n",
       "      <td>0.000000</td>\n",
       "      <td>3.375000e+04</td>\n",
       "      <td>-24946.000000</td>\n",
       "      <td>-14887.000000</td>\n",
       "      <td>1.0</td>\n",
       "      <td>0.000000</td>\n",
       "      <td>0.000000</td>\n",
       "      <td>0.000000</td>\n",
       "      <td>1.000000</td>\n",
       "      <td>0.000000</td>\n",
       "    </tr>\n",
       "    <tr>\n",
       "      <th>25%</th>\n",
       "      <td>5.045070e+06</td>\n",
       "      <td>0.000000</td>\n",
       "      <td>1.215000e+05</td>\n",
       "      <td>-19553.000000</td>\n",
       "      <td>-3174.500000</td>\n",
       "      <td>1.0</td>\n",
       "      <td>0.000000</td>\n",
       "      <td>0.000000</td>\n",
       "      <td>0.000000</td>\n",
       "      <td>2.000000</td>\n",
       "      <td>0.000000</td>\n",
       "    </tr>\n",
       "    <tr>\n",
       "      <th>50%</th>\n",
       "      <td>5.078842e+06</td>\n",
       "      <td>0.000000</td>\n",
       "      <td>1.665000e+05</td>\n",
       "      <td>-15661.500000</td>\n",
       "      <td>-1565.000000</td>\n",
       "      <td>1.0</td>\n",
       "      <td>0.000000</td>\n",
       "      <td>0.000000</td>\n",
       "      <td>0.000000</td>\n",
       "      <td>2.000000</td>\n",
       "      <td>0.000000</td>\n",
       "    </tr>\n",
       "    <tr>\n",
       "      <th>75%</th>\n",
       "      <td>5.115673e+06</td>\n",
       "      <td>1.000000</td>\n",
       "      <td>2.250000e+05</td>\n",
       "      <td>-12417.000000</td>\n",
       "      <td>-431.750000</td>\n",
       "      <td>1.0</td>\n",
       "      <td>0.000000</td>\n",
       "      <td>1.000000</td>\n",
       "      <td>0.000000</td>\n",
       "      <td>3.000000</td>\n",
       "      <td>0.000000</td>\n",
       "    </tr>\n",
       "    <tr>\n",
       "      <th>max</th>\n",
       "      <td>5.150412e+06</td>\n",
       "      <td>14.000000</td>\n",
       "      <td>1.575000e+06</td>\n",
       "      <td>-7705.000000</td>\n",
       "      <td>365243.000000</td>\n",
       "      <td>1.0</td>\n",
       "      <td>1.000000</td>\n",
       "      <td>1.000000</td>\n",
       "      <td>1.000000</td>\n",
       "      <td>15.000000</td>\n",
       "      <td>1.000000</td>\n",
       "    </tr>\n",
       "  </tbody>\n",
       "</table>\n",
       "</div>"
      ],
      "text/plain": [
       "             Ind_ID     CHILDREN  Annual_income  Birthday_count  \\\n",
       "count  1.548000e+03  1548.000000   1.525000e+03     1526.000000   \n",
       "mean   5.078920e+06     0.412791   1.913993e+05   -16040.342071   \n",
       "std    4.171759e+04     0.776691   1.132530e+05     4229.503202   \n",
       "min    5.008827e+06     0.000000   3.375000e+04   -24946.000000   \n",
       "25%    5.045070e+06     0.000000   1.215000e+05   -19553.000000   \n",
       "50%    5.078842e+06     0.000000   1.665000e+05   -15661.500000   \n",
       "75%    5.115673e+06     1.000000   2.250000e+05   -12417.000000   \n",
       "max    5.150412e+06    14.000000   1.575000e+06    -7705.000000   \n",
       "\n",
       "       Employed_days  Mobile_phone   Work_Phone        Phone     EMAIL_ID  \\\n",
       "count    1548.000000        1548.0  1548.000000  1548.000000  1548.000000   \n",
       "mean    59364.689922           1.0     0.208010     0.309432     0.092377   \n",
       "std    137808.062701           0.0     0.406015     0.462409     0.289651   \n",
       "min    -14887.000000           1.0     0.000000     0.000000     0.000000   \n",
       "25%     -3174.500000           1.0     0.000000     0.000000     0.000000   \n",
       "50%     -1565.000000           1.0     0.000000     0.000000     0.000000   \n",
       "75%      -431.750000           1.0     0.000000     1.000000     0.000000   \n",
       "max    365243.000000           1.0     1.000000     1.000000     1.000000   \n",
       "\n",
       "       Family_Members        label  \n",
       "count     1548.000000  1548.000000  \n",
       "mean         2.161499     0.113049  \n",
       "std          0.947772     0.316755  \n",
       "min          1.000000     0.000000  \n",
       "25%          2.000000     0.000000  \n",
       "50%          2.000000     0.000000  \n",
       "75%          3.000000     0.000000  \n",
       "max         15.000000     1.000000  "
      ]
     },
     "execution_count": 6,
     "metadata": {},
     "output_type": "execute_result"
    }
   ],
   "source": [
    "# Description of data\n",
    "merged.describe()"
   ]
  },
  {
   "cell_type": "code",
   "execution_count": 7,
   "metadata": {},
   "outputs": [
    {
     "data": {
      "text/plain": [
       "Ind_ID               0\n",
       "GENDER               7\n",
       "Car_Owner            0\n",
       "Propert_Owner        0\n",
       "CHILDREN             0\n",
       "Annual_income       23\n",
       "Type_Income          0\n",
       "EDUCATION            0\n",
       "Marital_status       0\n",
       "Housing_type         0\n",
       "Birthday_count      22\n",
       "Employed_days        0\n",
       "Mobile_phone         0\n",
       "Work_Phone           0\n",
       "Phone                0\n",
       "EMAIL_ID             0\n",
       "Type_Occupation    488\n",
       "Family_Members       0\n",
       "label                0\n",
       "dtype: int64"
      ]
     },
     "execution_count": 7,
     "metadata": {},
     "output_type": "execute_result"
    }
   ],
   "source": [
    "# Display count of missing values\n",
    "merged.isna().sum()"
   ]
  },
  {
   "cell_type": "code",
   "execution_count": 8,
   "metadata": {},
   "outputs": [
    {
     "name": "stdout",
     "output_type": "stream",
     "text": [
      "<class 'pandas.core.frame.DataFrame'>\n",
      "Int64Index: 1548 entries, 0 to 1547\n",
      "Data columns (total 19 columns):\n",
      " #   Column           Non-Null Count  Dtype  \n",
      "---  ------           --------------  -----  \n",
      " 0   Ind_ID           1548 non-null   int64  \n",
      " 1   GENDER           1541 non-null   object \n",
      " 2   Car_Owner        1548 non-null   object \n",
      " 3   Propert_Owner    1548 non-null   object \n",
      " 4   CHILDREN         1548 non-null   int64  \n",
      " 5   Annual_income    1525 non-null   float64\n",
      " 6   Type_Income      1548 non-null   object \n",
      " 7   EDUCATION        1548 non-null   object \n",
      " 8   Marital_status   1548 non-null   object \n",
      " 9   Housing_type     1548 non-null   object \n",
      " 10  Birthday_count   1526 non-null   float64\n",
      " 11  Employed_days    1548 non-null   int64  \n",
      " 12  Mobile_phone     1548 non-null   int64  \n",
      " 13  Work_Phone       1548 non-null   int64  \n",
      " 14  Phone            1548 non-null   int64  \n",
      " 15  EMAIL_ID         1548 non-null   int64  \n",
      " 16  Type_Occupation  1060 non-null   object \n",
      " 17  Family_Members   1548 non-null   int64  \n",
      " 18  label            1548 non-null   int64  \n",
      "dtypes: float64(2), int64(9), object(8)\n",
      "memory usage: 241.9+ KB\n"
     ]
    }
   ],
   "source": [
    "# Info display of data to identify data types\n",
    "merged.info()"
   ]
  },
  {
   "cell_type": "markdown",
   "metadata": {},
   "source": [
    "Now that the data has been loaded and we have a basic overview of its statistics, we need to handle the categorical variables. I will use pandas to create dummy variables for each category, and then drop the category I think makes the most sense to consider as a baseline."
   ]
  },
  {
   "cell_type": "code",
   "execution_count": 9,
   "metadata": {},
   "outputs": [],
   "source": [
    "# One Hot Encoding of categorical variables \n",
    "merged = pd.get_dummies(merged, columns=['GENDER', 'Car_Owner', 'Propert_Owner', 'CHILDREN', 'Type_Income', 'EDUCATION', 'Marital_status', 'Housing_type'])"
   ]
  },
  {
   "cell_type": "code",
   "execution_count": 10,
   "metadata": {},
   "outputs": [
    {
     "data": {
      "text/plain": [
       "Index(['Ind_ID', 'Annual_income', 'Birthday_count', 'Employed_days',\n",
       "       'Mobile_phone', 'Work_Phone', 'Phone', 'EMAIL_ID', 'Type_Occupation',\n",
       "       'Family_Members', 'label', 'GENDER_F', 'GENDER_M', 'Car_Owner_N',\n",
       "       'Car_Owner_Y', 'Propert_Owner_N', 'Propert_Owner_Y', 'CHILDREN_0',\n",
       "       'CHILDREN_1', 'CHILDREN_2', 'CHILDREN_3', 'CHILDREN_4', 'CHILDREN_14',\n",
       "       'Type_Income_Commercial associate', 'Type_Income_Pensioner',\n",
       "       'Type_Income_State servant', 'Type_Income_Working',\n",
       "       'EDUCATION_Academic degree', 'EDUCATION_Higher education',\n",
       "       'EDUCATION_Incomplete higher', 'EDUCATION_Lower secondary',\n",
       "       'EDUCATION_Secondary / secondary special',\n",
       "       'Marital_status_Civil marriage', 'Marital_status_Married',\n",
       "       'Marital_status_Separated', 'Marital_status_Single / not married',\n",
       "       'Marital_status_Widow', 'Housing_type_Co-op apartment',\n",
       "       'Housing_type_House / apartment', 'Housing_type_Municipal apartment',\n",
       "       'Housing_type_Office apartment', 'Housing_type_Rented apartment',\n",
       "       'Housing_type_With parents'],\n",
       "      dtype='object')"
      ]
     },
     "execution_count": 10,
     "metadata": {},
     "output_type": "execute_result"
    }
   ],
   "source": [
    "merged.columns"
   ]
  },
  {
   "cell_type": "code",
   "execution_count": 11,
   "metadata": {},
   "outputs": [],
   "source": [
    "# Drop baseline categories and uneceessary columns. Also removing the occupation type column because it is missing 1/3 of its values and it does not make sense to replace them.\n",
    "merged = merged.drop(['Ind_ID', 'Type_Occupation', 'GENDER_F', 'Car_Owner_N', 'Propert_Owner_N', 'CHILDREN_0', 'Type_Income_Working', 'EDUCATION_Academic degree', 'Marital_status_Single / not married', 'Housing_type_House / apartment'], axis=1)"
   ]
  },
  {
   "cell_type": "code",
   "execution_count": 12,
   "metadata": {},
   "outputs": [],
   "source": [
    "# Drop the remaining missing values\n",
    "merged = merged.dropna()"
   ]
  },
  {
   "cell_type": "code",
   "execution_count": 13,
   "metadata": {
    "scrolled": false
   },
   "outputs": [
    {
     "data": {
      "text/plain": [
       "Annual_income                              0\n",
       "Birthday_count                             0\n",
       "Employed_days                              0\n",
       "Mobile_phone                               0\n",
       "Work_Phone                                 0\n",
       "Phone                                      0\n",
       "EMAIL_ID                                   0\n",
       "Family_Members                             0\n",
       "label                                      0\n",
       "GENDER_M                                   0\n",
       "Car_Owner_Y                                0\n",
       "Propert_Owner_Y                            0\n",
       "CHILDREN_1                                 0\n",
       "CHILDREN_2                                 0\n",
       "CHILDREN_3                                 0\n",
       "CHILDREN_4                                 0\n",
       "CHILDREN_14                                0\n",
       "Type_Income_Commercial associate           0\n",
       "Type_Income_Pensioner                      0\n",
       "Type_Income_State servant                  0\n",
       "EDUCATION_Higher education                 0\n",
       "EDUCATION_Incomplete higher                0\n",
       "EDUCATION_Lower secondary                  0\n",
       "EDUCATION_Secondary / secondary special    0\n",
       "Marital_status_Civil marriage              0\n",
       "Marital_status_Married                     0\n",
       "Marital_status_Separated                   0\n",
       "Marital_status_Widow                       0\n",
       "Housing_type_Co-op apartment               0\n",
       "Housing_type_Municipal apartment           0\n",
       "Housing_type_Office apartment              0\n",
       "Housing_type_Rented apartment              0\n",
       "Housing_type_With parents                  0\n",
       "dtype: int64"
      ]
     },
     "execution_count": 13,
     "metadata": {},
     "output_type": "execute_result"
    }
   ],
   "source": [
    "merged.isna().sum()"
   ]
  },
  {
   "cell_type": "markdown",
   "metadata": {},
   "source": [
    "Now that the missing values have been handled, we can split the data into an X and y set."
   ]
  },
  {
   "cell_type": "code",
   "execution_count": 14,
   "metadata": {},
   "outputs": [],
   "source": [
    "X = merged.drop('label', axis = 1)\n",
    "y = merged['label']"
   ]
  },
  {
   "cell_type": "code",
   "execution_count": 15,
   "metadata": {
    "scrolled": true
   },
   "outputs": [
    {
     "data": {
      "text/html": [
       "<div>\n",
       "<style scoped>\n",
       "    .dataframe tbody tr th:only-of-type {\n",
       "        vertical-align: middle;\n",
       "    }\n",
       "\n",
       "    .dataframe tbody tr th {\n",
       "        vertical-align: top;\n",
       "    }\n",
       "\n",
       "    .dataframe thead th {\n",
       "        text-align: right;\n",
       "    }\n",
       "</style>\n",
       "<table border=\"1\" class=\"dataframe\">\n",
       "  <thead>\n",
       "    <tr style=\"text-align: right;\">\n",
       "      <th></th>\n",
       "      <th>Annual_income</th>\n",
       "      <th>Birthday_count</th>\n",
       "      <th>Employed_days</th>\n",
       "      <th>Mobile_phone</th>\n",
       "      <th>Work_Phone</th>\n",
       "      <th>Phone</th>\n",
       "      <th>EMAIL_ID</th>\n",
       "      <th>Family_Members</th>\n",
       "      <th>GENDER_M</th>\n",
       "      <th>Car_Owner_Y</th>\n",
       "      <th>...</th>\n",
       "      <th>EDUCATION_Secondary / secondary special</th>\n",
       "      <th>Marital_status_Civil marriage</th>\n",
       "      <th>Marital_status_Married</th>\n",
       "      <th>Marital_status_Separated</th>\n",
       "      <th>Marital_status_Widow</th>\n",
       "      <th>Housing_type_Co-op apartment</th>\n",
       "      <th>Housing_type_Municipal apartment</th>\n",
       "      <th>Housing_type_Office apartment</th>\n",
       "      <th>Housing_type_Rented apartment</th>\n",
       "      <th>Housing_type_With parents</th>\n",
       "    </tr>\n",
       "  </thead>\n",
       "  <tbody>\n",
       "    <tr>\n",
       "      <th>0</th>\n",
       "      <td>180000.0</td>\n",
       "      <td>-18772.0</td>\n",
       "      <td>365243</td>\n",
       "      <td>1</td>\n",
       "      <td>0</td>\n",
       "      <td>0</td>\n",
       "      <td>0</td>\n",
       "      <td>2</td>\n",
       "      <td>1</td>\n",
       "      <td>1</td>\n",
       "      <td>...</td>\n",
       "      <td>0</td>\n",
       "      <td>0</td>\n",
       "      <td>1</td>\n",
       "      <td>0</td>\n",
       "      <td>0</td>\n",
       "      <td>0</td>\n",
       "      <td>0</td>\n",
       "      <td>0</td>\n",
       "      <td>0</td>\n",
       "      <td>0</td>\n",
       "    </tr>\n",
       "    <tr>\n",
       "      <th>1</th>\n",
       "      <td>315000.0</td>\n",
       "      <td>-13557.0</td>\n",
       "      <td>-586</td>\n",
       "      <td>1</td>\n",
       "      <td>1</td>\n",
       "      <td>1</td>\n",
       "      <td>0</td>\n",
       "      <td>2</td>\n",
       "      <td>0</td>\n",
       "      <td>1</td>\n",
       "      <td>...</td>\n",
       "      <td>0</td>\n",
       "      <td>0</td>\n",
       "      <td>1</td>\n",
       "      <td>0</td>\n",
       "      <td>0</td>\n",
       "      <td>0</td>\n",
       "      <td>0</td>\n",
       "      <td>0</td>\n",
       "      <td>0</td>\n",
       "      <td>0</td>\n",
       "    </tr>\n",
       "    <tr>\n",
       "      <th>4</th>\n",
       "      <td>315000.0</td>\n",
       "      <td>-13557.0</td>\n",
       "      <td>-586</td>\n",
       "      <td>1</td>\n",
       "      <td>1</td>\n",
       "      <td>1</td>\n",
       "      <td>0</td>\n",
       "      <td>2</td>\n",
       "      <td>0</td>\n",
       "      <td>1</td>\n",
       "      <td>...</td>\n",
       "      <td>0</td>\n",
       "      <td>0</td>\n",
       "      <td>1</td>\n",
       "      <td>0</td>\n",
       "      <td>0</td>\n",
       "      <td>0</td>\n",
       "      <td>0</td>\n",
       "      <td>0</td>\n",
       "      <td>0</td>\n",
       "      <td>0</td>\n",
       "    </tr>\n",
       "    <tr>\n",
       "      <th>5</th>\n",
       "      <td>315000.0</td>\n",
       "      <td>-13557.0</td>\n",
       "      <td>-586</td>\n",
       "      <td>1</td>\n",
       "      <td>1</td>\n",
       "      <td>1</td>\n",
       "      <td>0</td>\n",
       "      <td>2</td>\n",
       "      <td>0</td>\n",
       "      <td>1</td>\n",
       "      <td>...</td>\n",
       "      <td>0</td>\n",
       "      <td>0</td>\n",
       "      <td>1</td>\n",
       "      <td>0</td>\n",
       "      <td>0</td>\n",
       "      <td>0</td>\n",
       "      <td>0</td>\n",
       "      <td>0</td>\n",
       "      <td>0</td>\n",
       "      <td>0</td>\n",
       "    </tr>\n",
       "    <tr>\n",
       "      <th>6</th>\n",
       "      <td>315000.0</td>\n",
       "      <td>-13557.0</td>\n",
       "      <td>-586</td>\n",
       "      <td>1</td>\n",
       "      <td>1</td>\n",
       "      <td>1</td>\n",
       "      <td>0</td>\n",
       "      <td>2</td>\n",
       "      <td>0</td>\n",
       "      <td>1</td>\n",
       "      <td>...</td>\n",
       "      <td>0</td>\n",
       "      <td>0</td>\n",
       "      <td>1</td>\n",
       "      <td>0</td>\n",
       "      <td>0</td>\n",
       "      <td>0</td>\n",
       "      <td>0</td>\n",
       "      <td>0</td>\n",
       "      <td>0</td>\n",
       "      <td>0</td>\n",
       "    </tr>\n",
       "    <tr>\n",
       "      <th>...</th>\n",
       "      <td>...</td>\n",
       "      <td>...</td>\n",
       "      <td>...</td>\n",
       "      <td>...</td>\n",
       "      <td>...</td>\n",
       "      <td>...</td>\n",
       "      <td>...</td>\n",
       "      <td>...</td>\n",
       "      <td>...</td>\n",
       "      <td>...</td>\n",
       "      <td>...</td>\n",
       "      <td>...</td>\n",
       "      <td>...</td>\n",
       "      <td>...</td>\n",
       "      <td>...</td>\n",
       "      <td>...</td>\n",
       "      <td>...</td>\n",
       "      <td>...</td>\n",
       "      <td>...</td>\n",
       "      <td>...</td>\n",
       "      <td>...</td>\n",
       "    </tr>\n",
       "    <tr>\n",
       "      <th>1542</th>\n",
       "      <td>360000.0</td>\n",
       "      <td>-11294.0</td>\n",
       "      <td>-3536</td>\n",
       "      <td>1</td>\n",
       "      <td>0</td>\n",
       "      <td>1</td>\n",
       "      <td>0</td>\n",
       "      <td>3</td>\n",
       "      <td>1</td>\n",
       "      <td>1</td>\n",
       "      <td>...</td>\n",
       "      <td>1</td>\n",
       "      <td>0</td>\n",
       "      <td>1</td>\n",
       "      <td>0</td>\n",
       "      <td>0</td>\n",
       "      <td>0</td>\n",
       "      <td>0</td>\n",
       "      <td>0</td>\n",
       "      <td>0</td>\n",
       "      <td>0</td>\n",
       "    </tr>\n",
       "    <tr>\n",
       "      <th>1544</th>\n",
       "      <td>225000.0</td>\n",
       "      <td>-10229.0</td>\n",
       "      <td>-1209</td>\n",
       "      <td>1</td>\n",
       "      <td>0</td>\n",
       "      <td>0</td>\n",
       "      <td>0</td>\n",
       "      <td>1</td>\n",
       "      <td>0</td>\n",
       "      <td>0</td>\n",
       "      <td>...</td>\n",
       "      <td>0</td>\n",
       "      <td>0</td>\n",
       "      <td>0</td>\n",
       "      <td>0</td>\n",
       "      <td>0</td>\n",
       "      <td>0</td>\n",
       "      <td>0</td>\n",
       "      <td>0</td>\n",
       "      <td>0</td>\n",
       "      <td>0</td>\n",
       "    </tr>\n",
       "    <tr>\n",
       "      <th>1545</th>\n",
       "      <td>180000.0</td>\n",
       "      <td>-13174.0</td>\n",
       "      <td>-2477</td>\n",
       "      <td>1</td>\n",
       "      <td>0</td>\n",
       "      <td>0</td>\n",
       "      <td>0</td>\n",
       "      <td>4</td>\n",
       "      <td>1</td>\n",
       "      <td>1</td>\n",
       "      <td>...</td>\n",
       "      <td>0</td>\n",
       "      <td>0</td>\n",
       "      <td>1</td>\n",
       "      <td>0</td>\n",
       "      <td>0</td>\n",
       "      <td>0</td>\n",
       "      <td>0</td>\n",
       "      <td>0</td>\n",
       "      <td>0</td>\n",
       "      <td>0</td>\n",
       "    </tr>\n",
       "    <tr>\n",
       "      <th>1546</th>\n",
       "      <td>270000.0</td>\n",
       "      <td>-15292.0</td>\n",
       "      <td>-645</td>\n",
       "      <td>1</td>\n",
       "      <td>1</td>\n",
       "      <td>1</td>\n",
       "      <td>0</td>\n",
       "      <td>2</td>\n",
       "      <td>1</td>\n",
       "      <td>1</td>\n",
       "      <td>...</td>\n",
       "      <td>1</td>\n",
       "      <td>1</td>\n",
       "      <td>0</td>\n",
       "      <td>0</td>\n",
       "      <td>0</td>\n",
       "      <td>0</td>\n",
       "      <td>0</td>\n",
       "      <td>0</td>\n",
       "      <td>0</td>\n",
       "      <td>0</td>\n",
       "    </tr>\n",
       "    <tr>\n",
       "      <th>1547</th>\n",
       "      <td>225000.0</td>\n",
       "      <td>-16601.0</td>\n",
       "      <td>-2859</td>\n",
       "      <td>1</td>\n",
       "      <td>0</td>\n",
       "      <td>0</td>\n",
       "      <td>0</td>\n",
       "      <td>2</td>\n",
       "      <td>0</td>\n",
       "      <td>1</td>\n",
       "      <td>...</td>\n",
       "      <td>0</td>\n",
       "      <td>0</td>\n",
       "      <td>1</td>\n",
       "      <td>0</td>\n",
       "      <td>0</td>\n",
       "      <td>0</td>\n",
       "      <td>0</td>\n",
       "      <td>0</td>\n",
       "      <td>0</td>\n",
       "      <td>0</td>\n",
       "    </tr>\n",
       "  </tbody>\n",
       "</table>\n",
       "<p>1503 rows × 32 columns</p>\n",
       "</div>"
      ],
      "text/plain": [
       "      Annual_income  Birthday_count  Employed_days  Mobile_phone  Work_Phone  \\\n",
       "0          180000.0        -18772.0         365243             1           0   \n",
       "1          315000.0        -13557.0           -586             1           1   \n",
       "4          315000.0        -13557.0           -586             1           1   \n",
       "5          315000.0        -13557.0           -586             1           1   \n",
       "6          315000.0        -13557.0           -586             1           1   \n",
       "...             ...             ...            ...           ...         ...   \n",
       "1542       360000.0        -11294.0          -3536             1           0   \n",
       "1544       225000.0        -10229.0          -1209             1           0   \n",
       "1545       180000.0        -13174.0          -2477             1           0   \n",
       "1546       270000.0        -15292.0           -645             1           1   \n",
       "1547       225000.0        -16601.0          -2859             1           0   \n",
       "\n",
       "      Phone  EMAIL_ID  Family_Members  GENDER_M  Car_Owner_Y  ...  \\\n",
       "0         0         0               2         1            1  ...   \n",
       "1         1         0               2         0            1  ...   \n",
       "4         1         0               2         0            1  ...   \n",
       "5         1         0               2         0            1  ...   \n",
       "6         1         0               2         0            1  ...   \n",
       "...     ...       ...             ...       ...          ...  ...   \n",
       "1542      1         0               3         1            1  ...   \n",
       "1544      0         0               1         0            0  ...   \n",
       "1545      0         0               4         1            1  ...   \n",
       "1546      1         0               2         1            1  ...   \n",
       "1547      0         0               2         0            1  ...   \n",
       "\n",
       "      EDUCATION_Secondary / secondary special  Marital_status_Civil marriage  \\\n",
       "0                                           0                              0   \n",
       "1                                           0                              0   \n",
       "4                                           0                              0   \n",
       "5                                           0                              0   \n",
       "6                                           0                              0   \n",
       "...                                       ...                            ...   \n",
       "1542                                        1                              0   \n",
       "1544                                        0                              0   \n",
       "1545                                        0                              0   \n",
       "1546                                        1                              1   \n",
       "1547                                        0                              0   \n",
       "\n",
       "      Marital_status_Married  Marital_status_Separated  Marital_status_Widow  \\\n",
       "0                          1                         0                     0   \n",
       "1                          1                         0                     0   \n",
       "4                          1                         0                     0   \n",
       "5                          1                         0                     0   \n",
       "6                          1                         0                     0   \n",
       "...                      ...                       ...                   ...   \n",
       "1542                       1                         0                     0   \n",
       "1544                       0                         0                     0   \n",
       "1545                       1                         0                     0   \n",
       "1546                       0                         0                     0   \n",
       "1547                       1                         0                     0   \n",
       "\n",
       "      Housing_type_Co-op apartment  Housing_type_Municipal apartment  \\\n",
       "0                                0                                 0   \n",
       "1                                0                                 0   \n",
       "4                                0                                 0   \n",
       "5                                0                                 0   \n",
       "6                                0                                 0   \n",
       "...                            ...                               ...   \n",
       "1542                             0                                 0   \n",
       "1544                             0                                 0   \n",
       "1545                             0                                 0   \n",
       "1546                             0                                 0   \n",
       "1547                             0                                 0   \n",
       "\n",
       "      Housing_type_Office apartment  Housing_type_Rented apartment  \\\n",
       "0                                 0                              0   \n",
       "1                                 0                              0   \n",
       "4                                 0                              0   \n",
       "5                                 0                              0   \n",
       "6                                 0                              0   \n",
       "...                             ...                            ...   \n",
       "1542                              0                              0   \n",
       "1544                              0                              0   \n",
       "1545                              0                              0   \n",
       "1546                              0                              0   \n",
       "1547                              0                              0   \n",
       "\n",
       "      Housing_type_With parents  \n",
       "0                             0  \n",
       "1                             0  \n",
       "4                             0  \n",
       "5                             0  \n",
       "6                             0  \n",
       "...                         ...  \n",
       "1542                          0  \n",
       "1544                          0  \n",
       "1545                          0  \n",
       "1546                          0  \n",
       "1547                          0  \n",
       "\n",
       "[1503 rows x 32 columns]"
      ]
     },
     "execution_count": 15,
     "metadata": {},
     "output_type": "execute_result"
    }
   ],
   "source": [
    "X "
   ]
  },
  {
   "cell_type": "markdown",
   "metadata": {},
   "source": [
    "The different columns of this dataset have numbers that vary greatly in size, which can potentially pose an issue for machine learning models. To fix this, we need to apply some sort of scaler to either fit the data into the space between 0 - 1, or -1 - 1. I have decided to apply a minmax scaler to fix this issue, which will result in the first outcome - all the data fits into the space between 0 - 1. "
   ]
  },
  {
   "cell_type": "code",
   "execution_count": 16,
   "metadata": {},
   "outputs": [],
   "source": [
    "scaler = MinMaxScaler()\n",
    "scaler.fit(X)\n",
    "X_scaled = pd.DataFrame(\n",
    "    scaler.transform(X),\n",
    "    index=X.index,\n",
    "    columns=X.columns\n",
    ")"
   ]
  },
  {
   "cell_type": "code",
   "execution_count": 17,
   "metadata": {
    "scrolled": false
   },
   "outputs": [
    {
     "data": {
      "text/html": [
       "<div>\n",
       "<style scoped>\n",
       "    .dataframe tbody tr th:only-of-type {\n",
       "        vertical-align: middle;\n",
       "    }\n",
       "\n",
       "    .dataframe tbody tr th {\n",
       "        vertical-align: top;\n",
       "    }\n",
       "\n",
       "    .dataframe thead th {\n",
       "        text-align: right;\n",
       "    }\n",
       "</style>\n",
       "<table border=\"1\" class=\"dataframe\">\n",
       "  <thead>\n",
       "    <tr style=\"text-align: right;\">\n",
       "      <th></th>\n",
       "      <th>Annual_income</th>\n",
       "      <th>Birthday_count</th>\n",
       "      <th>Employed_days</th>\n",
       "      <th>Mobile_phone</th>\n",
       "      <th>Work_Phone</th>\n",
       "      <th>Phone</th>\n",
       "      <th>EMAIL_ID</th>\n",
       "      <th>Family_Members</th>\n",
       "      <th>GENDER_M</th>\n",
       "      <th>Car_Owner_Y</th>\n",
       "      <th>...</th>\n",
       "      <th>EDUCATION_Secondary / secondary special</th>\n",
       "      <th>Marital_status_Civil marriage</th>\n",
       "      <th>Marital_status_Married</th>\n",
       "      <th>Marital_status_Separated</th>\n",
       "      <th>Marital_status_Widow</th>\n",
       "      <th>Housing_type_Co-op apartment</th>\n",
       "      <th>Housing_type_Municipal apartment</th>\n",
       "      <th>Housing_type_Office apartment</th>\n",
       "      <th>Housing_type_Rented apartment</th>\n",
       "      <th>Housing_type_With parents</th>\n",
       "    </tr>\n",
       "  </thead>\n",
       "  <tbody>\n",
       "    <tr>\n",
       "      <th>0</th>\n",
       "      <td>0.094891</td>\n",
       "      <td>0.358100</td>\n",
       "      <td>1.000000</td>\n",
       "      <td>0.0</td>\n",
       "      <td>0.0</td>\n",
       "      <td>0.0</td>\n",
       "      <td>0.0</td>\n",
       "      <td>0.071429</td>\n",
       "      <td>1.0</td>\n",
       "      <td>1.0</td>\n",
       "      <td>...</td>\n",
       "      <td>0.0</td>\n",
       "      <td>0.0</td>\n",
       "      <td>1.0</td>\n",
       "      <td>0.0</td>\n",
       "      <td>0.0</td>\n",
       "      <td>0.0</td>\n",
       "      <td>0.0</td>\n",
       "      <td>0.0</td>\n",
       "      <td>0.0</td>\n",
       "      <td>0.0</td>\n",
       "    </tr>\n",
       "    <tr>\n",
       "      <th>1</th>\n",
       "      <td>0.182482</td>\n",
       "      <td>0.660577</td>\n",
       "      <td>0.037621</td>\n",
       "      <td>0.0</td>\n",
       "      <td>1.0</td>\n",
       "      <td>1.0</td>\n",
       "      <td>0.0</td>\n",
       "      <td>0.071429</td>\n",
       "      <td>0.0</td>\n",
       "      <td>1.0</td>\n",
       "      <td>...</td>\n",
       "      <td>0.0</td>\n",
       "      <td>0.0</td>\n",
       "      <td>1.0</td>\n",
       "      <td>0.0</td>\n",
       "      <td>0.0</td>\n",
       "      <td>0.0</td>\n",
       "      <td>0.0</td>\n",
       "      <td>0.0</td>\n",
       "      <td>0.0</td>\n",
       "      <td>0.0</td>\n",
       "    </tr>\n",
       "    <tr>\n",
       "      <th>4</th>\n",
       "      <td>0.182482</td>\n",
       "      <td>0.660577</td>\n",
       "      <td>0.037621</td>\n",
       "      <td>0.0</td>\n",
       "      <td>1.0</td>\n",
       "      <td>1.0</td>\n",
       "      <td>0.0</td>\n",
       "      <td>0.071429</td>\n",
       "      <td>0.0</td>\n",
       "      <td>1.0</td>\n",
       "      <td>...</td>\n",
       "      <td>0.0</td>\n",
       "      <td>0.0</td>\n",
       "      <td>1.0</td>\n",
       "      <td>0.0</td>\n",
       "      <td>0.0</td>\n",
       "      <td>0.0</td>\n",
       "      <td>0.0</td>\n",
       "      <td>0.0</td>\n",
       "      <td>0.0</td>\n",
       "      <td>0.0</td>\n",
       "    </tr>\n",
       "    <tr>\n",
       "      <th>5</th>\n",
       "      <td>0.182482</td>\n",
       "      <td>0.660577</td>\n",
       "      <td>0.037621</td>\n",
       "      <td>0.0</td>\n",
       "      <td>1.0</td>\n",
       "      <td>1.0</td>\n",
       "      <td>0.0</td>\n",
       "      <td>0.071429</td>\n",
       "      <td>0.0</td>\n",
       "      <td>1.0</td>\n",
       "      <td>...</td>\n",
       "      <td>0.0</td>\n",
       "      <td>0.0</td>\n",
       "      <td>1.0</td>\n",
       "      <td>0.0</td>\n",
       "      <td>0.0</td>\n",
       "      <td>0.0</td>\n",
       "      <td>0.0</td>\n",
       "      <td>0.0</td>\n",
       "      <td>0.0</td>\n",
       "      <td>0.0</td>\n",
       "    </tr>\n",
       "    <tr>\n",
       "      <th>6</th>\n",
       "      <td>0.182482</td>\n",
       "      <td>0.660577</td>\n",
       "      <td>0.037621</td>\n",
       "      <td>0.0</td>\n",
       "      <td>1.0</td>\n",
       "      <td>1.0</td>\n",
       "      <td>0.0</td>\n",
       "      <td>0.071429</td>\n",
       "      <td>0.0</td>\n",
       "      <td>1.0</td>\n",
       "      <td>...</td>\n",
       "      <td>0.0</td>\n",
       "      <td>0.0</td>\n",
       "      <td>1.0</td>\n",
       "      <td>0.0</td>\n",
       "      <td>0.0</td>\n",
       "      <td>0.0</td>\n",
       "      <td>0.0</td>\n",
       "      <td>0.0</td>\n",
       "      <td>0.0</td>\n",
       "      <td>0.0</td>\n",
       "    </tr>\n",
       "    <tr>\n",
       "      <th>...</th>\n",
       "      <td>...</td>\n",
       "      <td>...</td>\n",
       "      <td>...</td>\n",
       "      <td>...</td>\n",
       "      <td>...</td>\n",
       "      <td>...</td>\n",
       "      <td>...</td>\n",
       "      <td>...</td>\n",
       "      <td>...</td>\n",
       "      <td>...</td>\n",
       "      <td>...</td>\n",
       "      <td>...</td>\n",
       "      <td>...</td>\n",
       "      <td>...</td>\n",
       "      <td>...</td>\n",
       "      <td>...</td>\n",
       "      <td>...</td>\n",
       "      <td>...</td>\n",
       "      <td>...</td>\n",
       "      <td>...</td>\n",
       "      <td>...</td>\n",
       "    </tr>\n",
       "    <tr>\n",
       "      <th>1542</th>\n",
       "      <td>0.211679</td>\n",
       "      <td>0.791833</td>\n",
       "      <td>0.029861</td>\n",
       "      <td>0.0</td>\n",
       "      <td>0.0</td>\n",
       "      <td>1.0</td>\n",
       "      <td>0.0</td>\n",
       "      <td>0.142857</td>\n",
       "      <td>1.0</td>\n",
       "      <td>1.0</td>\n",
       "      <td>...</td>\n",
       "      <td>1.0</td>\n",
       "      <td>0.0</td>\n",
       "      <td>1.0</td>\n",
       "      <td>0.0</td>\n",
       "      <td>0.0</td>\n",
       "      <td>0.0</td>\n",
       "      <td>0.0</td>\n",
       "      <td>0.0</td>\n",
       "      <td>0.0</td>\n",
       "      <td>0.0</td>\n",
       "    </tr>\n",
       "    <tr>\n",
       "      <th>1544</th>\n",
       "      <td>0.124088</td>\n",
       "      <td>0.853605</td>\n",
       "      <td>0.035982</td>\n",
       "      <td>0.0</td>\n",
       "      <td>0.0</td>\n",
       "      <td>0.0</td>\n",
       "      <td>0.0</td>\n",
       "      <td>0.000000</td>\n",
       "      <td>0.0</td>\n",
       "      <td>0.0</td>\n",
       "      <td>...</td>\n",
       "      <td>0.0</td>\n",
       "      <td>0.0</td>\n",
       "      <td>0.0</td>\n",
       "      <td>0.0</td>\n",
       "      <td>0.0</td>\n",
       "      <td>0.0</td>\n",
       "      <td>0.0</td>\n",
       "      <td>0.0</td>\n",
       "      <td>0.0</td>\n",
       "      <td>0.0</td>\n",
       "    </tr>\n",
       "    <tr>\n",
       "      <th>1545</th>\n",
       "      <td>0.094891</td>\n",
       "      <td>0.682791</td>\n",
       "      <td>0.032647</td>\n",
       "      <td>0.0</td>\n",
       "      <td>0.0</td>\n",
       "      <td>0.0</td>\n",
       "      <td>0.0</td>\n",
       "      <td>0.214286</td>\n",
       "      <td>1.0</td>\n",
       "      <td>1.0</td>\n",
       "      <td>...</td>\n",
       "      <td>0.0</td>\n",
       "      <td>0.0</td>\n",
       "      <td>1.0</td>\n",
       "      <td>0.0</td>\n",
       "      <td>0.0</td>\n",
       "      <td>0.0</td>\n",
       "      <td>0.0</td>\n",
       "      <td>0.0</td>\n",
       "      <td>0.0</td>\n",
       "      <td>0.0</td>\n",
       "    </tr>\n",
       "    <tr>\n",
       "      <th>1546</th>\n",
       "      <td>0.153285</td>\n",
       "      <td>0.559944</td>\n",
       "      <td>0.037466</td>\n",
       "      <td>0.0</td>\n",
       "      <td>1.0</td>\n",
       "      <td>1.0</td>\n",
       "      <td>0.0</td>\n",
       "      <td>0.071429</td>\n",
       "      <td>1.0</td>\n",
       "      <td>1.0</td>\n",
       "      <td>...</td>\n",
       "      <td>1.0</td>\n",
       "      <td>1.0</td>\n",
       "      <td>0.0</td>\n",
       "      <td>0.0</td>\n",
       "      <td>0.0</td>\n",
       "      <td>0.0</td>\n",
       "      <td>0.0</td>\n",
       "      <td>0.0</td>\n",
       "      <td>0.0</td>\n",
       "      <td>0.0</td>\n",
       "    </tr>\n",
       "    <tr>\n",
       "      <th>1547</th>\n",
       "      <td>0.124088</td>\n",
       "      <td>0.484021</td>\n",
       "      <td>0.031642</td>\n",
       "      <td>0.0</td>\n",
       "      <td>0.0</td>\n",
       "      <td>0.0</td>\n",
       "      <td>0.0</td>\n",
       "      <td>0.071429</td>\n",
       "      <td>0.0</td>\n",
       "      <td>1.0</td>\n",
       "      <td>...</td>\n",
       "      <td>0.0</td>\n",
       "      <td>0.0</td>\n",
       "      <td>1.0</td>\n",
       "      <td>0.0</td>\n",
       "      <td>0.0</td>\n",
       "      <td>0.0</td>\n",
       "      <td>0.0</td>\n",
       "      <td>0.0</td>\n",
       "      <td>0.0</td>\n",
       "      <td>0.0</td>\n",
       "    </tr>\n",
       "  </tbody>\n",
       "</table>\n",
       "<p>1503 rows × 32 columns</p>\n",
       "</div>"
      ],
      "text/plain": [
       "      Annual_income  Birthday_count  Employed_days  Mobile_phone  Work_Phone  \\\n",
       "0          0.094891        0.358100       1.000000           0.0         0.0   \n",
       "1          0.182482        0.660577       0.037621           0.0         1.0   \n",
       "4          0.182482        0.660577       0.037621           0.0         1.0   \n",
       "5          0.182482        0.660577       0.037621           0.0         1.0   \n",
       "6          0.182482        0.660577       0.037621           0.0         1.0   \n",
       "...             ...             ...            ...           ...         ...   \n",
       "1542       0.211679        0.791833       0.029861           0.0         0.0   \n",
       "1544       0.124088        0.853605       0.035982           0.0         0.0   \n",
       "1545       0.094891        0.682791       0.032647           0.0         0.0   \n",
       "1546       0.153285        0.559944       0.037466           0.0         1.0   \n",
       "1547       0.124088        0.484021       0.031642           0.0         0.0   \n",
       "\n",
       "      Phone  EMAIL_ID  Family_Members  GENDER_M  Car_Owner_Y  ...  \\\n",
       "0       0.0       0.0        0.071429       1.0          1.0  ...   \n",
       "1       1.0       0.0        0.071429       0.0          1.0  ...   \n",
       "4       1.0       0.0        0.071429       0.0          1.0  ...   \n",
       "5       1.0       0.0        0.071429       0.0          1.0  ...   \n",
       "6       1.0       0.0        0.071429       0.0          1.0  ...   \n",
       "...     ...       ...             ...       ...          ...  ...   \n",
       "1542    1.0       0.0        0.142857       1.0          1.0  ...   \n",
       "1544    0.0       0.0        0.000000       0.0          0.0  ...   \n",
       "1545    0.0       0.0        0.214286       1.0          1.0  ...   \n",
       "1546    1.0       0.0        0.071429       1.0          1.0  ...   \n",
       "1547    0.0       0.0        0.071429       0.0          1.0  ...   \n",
       "\n",
       "      EDUCATION_Secondary / secondary special  Marital_status_Civil marriage  \\\n",
       "0                                         0.0                            0.0   \n",
       "1                                         0.0                            0.0   \n",
       "4                                         0.0                            0.0   \n",
       "5                                         0.0                            0.0   \n",
       "6                                         0.0                            0.0   \n",
       "...                                       ...                            ...   \n",
       "1542                                      1.0                            0.0   \n",
       "1544                                      0.0                            0.0   \n",
       "1545                                      0.0                            0.0   \n",
       "1546                                      1.0                            1.0   \n",
       "1547                                      0.0                            0.0   \n",
       "\n",
       "      Marital_status_Married  Marital_status_Separated  Marital_status_Widow  \\\n",
       "0                        1.0                       0.0                   0.0   \n",
       "1                        1.0                       0.0                   0.0   \n",
       "4                        1.0                       0.0                   0.0   \n",
       "5                        1.0                       0.0                   0.0   \n",
       "6                        1.0                       0.0                   0.0   \n",
       "...                      ...                       ...                   ...   \n",
       "1542                     1.0                       0.0                   0.0   \n",
       "1544                     0.0                       0.0                   0.0   \n",
       "1545                     1.0                       0.0                   0.0   \n",
       "1546                     0.0                       0.0                   0.0   \n",
       "1547                     1.0                       0.0                   0.0   \n",
       "\n",
       "      Housing_type_Co-op apartment  Housing_type_Municipal apartment  \\\n",
       "0                              0.0                               0.0   \n",
       "1                              0.0                               0.0   \n",
       "4                              0.0                               0.0   \n",
       "5                              0.0                               0.0   \n",
       "6                              0.0                               0.0   \n",
       "...                            ...                               ...   \n",
       "1542                           0.0                               0.0   \n",
       "1544                           0.0                               0.0   \n",
       "1545                           0.0                               0.0   \n",
       "1546                           0.0                               0.0   \n",
       "1547                           0.0                               0.0   \n",
       "\n",
       "      Housing_type_Office apartment  Housing_type_Rented apartment  \\\n",
       "0                               0.0                            0.0   \n",
       "1                               0.0                            0.0   \n",
       "4                               0.0                            0.0   \n",
       "5                               0.0                            0.0   \n",
       "6                               0.0                            0.0   \n",
       "...                             ...                            ...   \n",
       "1542                            0.0                            0.0   \n",
       "1544                            0.0                            0.0   \n",
       "1545                            0.0                            0.0   \n",
       "1546                            0.0                            0.0   \n",
       "1547                            0.0                            0.0   \n",
       "\n",
       "      Housing_type_With parents  \n",
       "0                           0.0  \n",
       "1                           0.0  \n",
       "4                           0.0  \n",
       "5                           0.0  \n",
       "6                           0.0  \n",
       "...                         ...  \n",
       "1542                        0.0  \n",
       "1544                        0.0  \n",
       "1545                        0.0  \n",
       "1546                        0.0  \n",
       "1547                        0.0  \n",
       "\n",
       "[1503 rows x 32 columns]"
      ]
     },
     "execution_count": 17,
     "metadata": {},
     "output_type": "execute_result"
    }
   ],
   "source": [
    "X_scaled"
   ]
  },
  {
   "cell_type": "markdown",
   "metadata": {},
   "source": [
    "With the data scaled, we are ready to perform a train-test split and start creating baseline models. "
   ]
  },
  {
   "cell_type": "code",
   "execution_count": 18,
   "metadata": {},
   "outputs": [],
   "source": [
    "# Apply train test split\n",
    "X_train, X_test, y_train, y_test = train_test_split(X_scaled, y, random_state=42, test_size=0.25)"
   ]
  },
  {
   "cell_type": "markdown",
   "metadata": {},
   "source": [
    "I'm going to create a logistic regression first, mostly using the baseline parameters. I am leaving solve intercept as true because the data has been scaled. I am adding a small penalty term to the model to start with, and will be experimenting with larger penalty terms later.\n",
    "\n",
    "# Experimental modeling\n",
    "\n",
    "## Logistic Regression"
   ]
  },
  {
   "cell_type": "code",
   "execution_count": 19,
   "metadata": {},
   "outputs": [],
   "source": [
    "# Create a baseline logistic regression of the data\n",
    "baseline_lr = LogisticRegression(C=1e4, solver='liblinear')\n",
    "baseline_lr.fit(X_train, y_train)\n",
    "y_pred = baseline_lr.predict(X_test)"
   ]
  },
  {
   "cell_type": "markdown",
   "metadata": {},
   "source": [
    "I am going to be iterating on the parameters of my models many times to try and create the best model possible, so it is best practice to create a function that calculates the evaluation metrics for me. This way, I won't have to copy-paste the code that calculates these scores every single time I iterate on the model to compare it to the baseline."
   ]
  },
  {
   "cell_type": "code",
   "execution_count": 20,
   "metadata": {},
   "outputs": [],
   "source": [
    "def model_eval(model, train_x, test_x, train_y, test_y):\n",
    "    \"\"\"\n",
    "    Create predicted y values for both training and test X. Then, calculate precision, recall, accuracy, F1, fpr, tpr, and auc\n",
    "    for both the training and test sets. Also create a confusion matrix and print it.\n",
    "    \"\"\"\n",
    "    # Calculate predicted values for training and test data\n",
    "    y_train_hat = model.predict(train_x)\n",
    "    y_test_hat = model.predict(test_x)\n",
    "    \n",
    "    # Calculate evaluation statistics for test data\n",
    "    test_precision = precision_score(test_y, y_test_hat)\n",
    "    test_recall = recall_score(test_y, y_test_hat)\n",
    "    test_accuracy = accuracy_score(test_y, y_test_hat)\n",
    "    test_f1 = f1_score(test_y, y_test_hat)\n",
    "    \n",
    "    # Calculate evaluation statistics for training data\n",
    "    train_precision = precision_score(train_y, y_train_hat)\n",
    "    train_recall = recall_score(train_y, y_train_hat)\n",
    "    train_accuracy = accuracy_score(train_y, y_train_hat)\n",
    "    train_f1 = f1_score(train_y, y_train_hat)\n",
    "    \n",
    "    # Decision function for both test and training data\n",
    "    y_score_test = model.decision_function(test_x)\n",
    "    y_score_train = model.decision_function(train_x)\n",
    "    \n",
    "    # ROC curve for test and training data\n",
    "    fpr_test, tpr_test, thresholds_test = roc_curve(test_y, y_score_test)\n",
    "    fpr_train, tpr_train, thresholds_train = roc_curve(train_y, y_score_train)\n",
    "    \n",
    "    # AUC calculations\n",
    "    auc_test = auc(fpr_test, tpr_test)\n",
    "    auc_train = auc(fpr_train, tpr_train)\n",
    "    \n",
    "    # Print confusion matrix for only test data\n",
    "    cmatrix = confusion_matrix(test_y, y_test_hat)\n",
    "    ConfusionMatrixDisplay(cmatrix).plot()\n",
    "    \n",
    "    # Print all of the evaluation statistics\n",
    "    print('Model Training and Test Statistics:')\n",
    "    print('Test Precision:', test_precision)\n",
    "    print('Train Precision:', train_precision)\n",
    "    print('----------')\n",
    "    print('Test Recall:', test_recall)\n",
    "    print('Train Recall:', train_recall)\n",
    "    print('----------')\n",
    "    print('Test Accuracy:', test_accuracy)\n",
    "    print('Train Accuracy:', train_accuracy)\n",
    "    print('----------')\n",
    "    print('Test F1:', test_f1)\n",
    "    print('Train F1:', train_f1)\n",
    "    print('----------')\n",
    "    print('Test AUC:', auc_test)\n",
    "    print('Train AUC:', auc_train)"
   ]
  },
  {
   "cell_type": "code",
   "execution_count": 21,
   "metadata": {},
   "outputs": [
    {
     "name": "stdout",
     "output_type": "stream",
     "text": [
      "Model Training and Test Statistics:\n",
      "Test Precision: 0.6666666666666666\n",
      "Train Precision: 0.6666666666666666\n",
      "----------\n",
      "Test Recall: 0.05714285714285714\n",
      "Train Recall: 0.06153846153846154\n",
      "----------\n",
      "Test Accuracy: 0.9095744680851063\n",
      "Train Accuracy: 0.8881987577639752\n",
      "----------\n",
      "Test F1: 0.10526315789473684\n",
      "Train F1: 0.11267605633802817\n",
      "----------\n",
      "Test AUC: 0.6197318810222036\n",
      "Train AUC: 0.6970334079160558\n"
     ]
    },
    {
     "data": {
      "image/png": "[encoded data removed]",
      "text/plain": [
       "<Figure size 432x288 with 2 Axes>"
      ]
     },
     "metadata": {
      "needs_background": "light"
     },
     "output_type": "display_data"
    }
   ],
   "source": [
    "model_eval(baseline_lr, X_train, X_test, y_train, y_test)"
   ]
  },
  {
   "cell_type": "markdown",
   "metadata": {},
   "source": [
    "These metrics indicate that we are not really underfitting or overfitting, but the model is not performing well overall. 33 false negatives is far too many to be acceptable for our business purpose. This issue is likely caused by the fact that there are few instances of the positive case in the training data. Before doing any additional iterations on the type or parameters of the model, I am going to apply synthetic minority oversampling (SMOTE) to attempt to correct this issue."
   ]
  },
  {
   "cell_type": "code",
   "execution_count": 22,
   "metadata": {},
   "outputs": [],
   "source": [
    "# Perform SMOTE on only the training dataset\n",
    "X_train_resampled, y_train_resampled = SMOTE().fit_resample(X_train, y_train)"
   ]
  },
  {
   "cell_type": "code",
   "execution_count": 23,
   "metadata": {},
   "outputs": [
    {
     "data": {
      "text/plain": [
       "LogisticRegression(C=10000.0, solver='liblinear')"
      ]
     },
     "execution_count": 23,
     "metadata": {},
     "output_type": "execute_result"
    }
   ],
   "source": [
    "# Fit a model on the manipulated data\n",
    "baseline_smote_lr = LogisticRegression(C=1e4, solver='liblinear')\n",
    "baseline_smote_lr.fit(X_train_resampled, y_train_resampled)"
   ]
  },
  {
   "cell_type": "code",
   "execution_count": 24,
   "metadata": {},
   "outputs": [
    {
     "name": "stdout",
     "output_type": "stream",
     "text": [
      "Model Training and Test Statistics:\n",
      "Test Precision: 0.12162162162162163\n",
      "Train Precision: 0.625748502994012\n",
      "----------\n",
      "Test Recall: 0.5142857142857142\n",
      "Train Recall: 0.6288866599799399\n",
      "----------\n",
      "Test Accuracy: 0.6090425531914894\n",
      "Train Accuracy: 0.6263791374122367\n",
      "----------\n",
      "Test F1: 0.19672131147540983\n",
      "Train F1: 0.6273136568284142\n",
      "----------\n",
      "Test AUC: 0.6279430247172183\n",
      "Train AUC: 0.7016827815442315\n"
     ]
    },
    {
     "data": {
      "image/png": "[encoded data removed]",
      "text/plain": [
       "<Figure size 432x288 with 2 Axes>"
      ]
     },
     "metadata": {
      "needs_background": "light"
     },
     "output_type": "display_data"
    }
   ],
   "source": [
    "model_eval(baseline_smote_lr, X_train_resampled, X_test, y_train_resampled, y_test)"
   ]
  },
  {
   "cell_type": "markdown",
   "metadata": {},
   "source": [
    "The new model has slightly worse recall and precision, and significantly worse accuracy. However, its f1 score is massively improved, and AUC is slightly improved. For the business purpose of this study, this model is performing better  - now it can actually identify true positives. However, it is far too lenient on who it approves. It is a good idea to experiment with parameters, model types, and data engineering techniques to improve it further.\n",
    "\n",
    "Before testing different types of models or performing feature engineerin, I will experiment with a variety of different C values."
   ]
  },
  {
   "cell_type": "code",
   "execution_count": 25,
   "metadata": {},
   "outputs": [
    {
     "name": "stdout",
     "output_type": "stream",
     "text": [
      "LogisticRegression(C=0.1, solver='liblinear')\n",
      "AUC for current parameter: 0.6008797653958945\n",
      "F1 for current parameter: 0.21256038647342998\n",
      "--------------------\n",
      "LogisticRegression(C=0.5, solver='liblinear')\n",
      "AUC for current parameter: 0.6064935064935064\n",
      "F1 for current parameter: 0.1818181818181818\n",
      "--------------------\n",
      "LogisticRegression(C=1, solver='liblinear')\n",
      "AUC for current parameter: 0.6077503142019272\n",
      "F1 for current parameter: 0.18556701030927836\n",
      "--------------------\n",
      "LogisticRegression(C=10, solver='liblinear')\n",
      "AUC for current parameter: 0.6117720988688731\n",
      "F1 for current parameter: 0.18181818181818182\n",
      "--------------------\n",
      "LogisticRegression(C=100, solver='liblinear')\n",
      "AUC for current parameter: 0.6229995810640971\n",
      "F1 for current parameter: 0.19459459459459458\n",
      "--------------------\n",
      "LogisticRegression(C=1000.0, solver='liblinear')\n",
      "AUC for current parameter: 0.6273565144532887\n",
      "F1 for current parameter: 0.19565217391304346\n",
      "--------------------\n",
      "LogisticRegression(C=10000.0, solver='liblinear')\n",
      "AUC for current parameter: 0.6279430247172183\n",
      "F1 for current parameter: 0.19672131147540983\n",
      "--------------------\n",
      "LogisticRegression(C=100000.0, solver='liblinear')\n",
      "AUC for current parameter: 0.6279430247172183\n",
      "F1 for current parameter: 0.19672131147540983\n",
      "--------------------\n",
      "LogisticRegression(C=1000000.0, solver='liblinear')\n",
      "AUC for current parameter: 0.6279430247172183\n",
      "F1 for current parameter: 0.19672131147540983\n",
      "--------------------\n",
      "LogisticRegression(C=10000000.0, solver='liblinear')\n",
      "AUC for current parameter: 0.6279430247172183\n",
      "F1 for current parameter: 0.19672131147540983\n",
      "--------------------\n",
      "LogisticRegression(C=100000000.0, solver='liblinear')\n",
      "AUC for current parameter: 0.6279430247172183\n",
      "F1 for current parameter: 0.19672131147540983\n",
      "--------------------\n",
      "LogisticRegression(C=1000000000.0, solver='liblinear')\n",
      "AUC for current parameter: 0.6279430247172183\n",
      "F1 for current parameter: 0.19672131147540983\n",
      "--------------------\n",
      "LogisticRegression(C=10000000000.0, solver='liblinear')\n",
      "AUC for current parameter: 0.6279430247172183\n",
      "F1 for current parameter: 0.19672131147540983\n",
      "--------------------\n"
     ]
    }
   ],
   "source": [
    "C_range = [0.1, 0.5, 1, 10, 100, 1e3, 1e4, 1e5, 1e6, 1e7, 1e8, 1e9, 1e10]\n",
    "\n",
    "for c in C_range:\n",
    "    # Fit model with given C\n",
    "    lr = LogisticRegression(C=c, solver='liblinear')\n",
    "    model = lr.fit(X_train_resampled, y_train_resampled)\n",
    "    # Print parameters of model to make it clear which model is which\n",
    "    print(model)\n",
    "    \n",
    "    # Predict\n",
    "    y_pred = model.predict(X_test)\n",
    "    y_score = model.decision_function(X_test)\n",
    "    \n",
    "    fpr, tpr, thresholds = roc_curve(y_test, y_score)\n",
    "    print('AUC for current parameter:', auc(fpr, tpr))\n",
    "    print('F1 for current parameter:', f1_score(y_test, y_pred))\n",
    "    print('--------------------')"
   ]
  },
  {
   "cell_type": "markdown",
   "metadata": {},
   "source": [
    "After a C paramter of 1e6, we do not seem to be getting any noticeable improvement in F1 or AUC. We also seem to be having signficant issues with overfitting of the training data. It is probably best to attempt a decision tree and random forest classifier model with the same data to see if we get better performance.\n",
    "\n",
    "I'm going to start with a vanilla decision tree classifier first and then go from there.\n",
    "\n",
    "# Decision Tree Classifier"
   ]
  },
  {
   "cell_type": "code",
   "execution_count": 26,
   "metadata": {
    "scrolled": true
   },
   "outputs": [
    {
     "data": {
      "text/plain": [
       "DecisionTreeClassifier(criterion='entropy', random_state=42)"
      ]
     },
     "execution_count": 26,
     "metadata": {},
     "output_type": "execute_result"
    }
   ],
   "source": [
    "SEED = 42\n",
    "# Instanciate decision tree classifier class\n",
    "dt_vanilla = DecisionTreeClassifier(random_state=SEED, criterion = 'entropy')\n",
    "\n",
    "# Fitting the model with original, non-class corrected data\n",
    "dt_vanilla.fit(X_train, y_train)"
   ]
  },
  {
   "cell_type": "markdown",
   "metadata": {},
   "source": [
    "Because of an oversight I made, the model eval function I wrote earlier won't work with this type of model. I retool it below. "
   ]
  },
  {
   "cell_type": "code",
   "execution_count": 27,
   "metadata": {},
   "outputs": [],
   "source": [
    "def model_eval_tree(model, train_x, test_x, train_y, test_y):\n",
    "    \"\"\"\n",
    "    Create predicted y values for both training and test X. Then, calculate precision, recall, accuracy, F1, fpr, tpr, and auc\n",
    "    for both the training and test sets. Also create a confusion matrix and print it. Does not calculate decision function as it\n",
    "    is not relevant for decision trees.\n",
    "    \"\"\"\n",
    "    # Calculate predicted values for training and test data\n",
    "    y_train_hat = model.predict(train_x)\n",
    "    y_test_hat = model.predict(test_x)\n",
    "    \n",
    "    # Calculate evaluation statistics for test data\n",
    "    test_precision = precision_score(test_y, y_test_hat)\n",
    "    test_recall = recall_score(test_y, y_test_hat)\n",
    "    test_accuracy = accuracy_score(test_y, y_test_hat)\n",
    "    test_f1 = f1_score(test_y, y_test_hat)\n",
    "    \n",
    "    # Calculate evaluation statistics for training data\n",
    "    train_precision = precision_score(train_y, y_train_hat)\n",
    "    train_recall = recall_score(train_y, y_train_hat)\n",
    "    train_accuracy = accuracy_score(train_y, y_train_hat)\n",
    "    train_f1 = f1_score(train_y, y_train_hat)\n",
    "    \n",
    "    # ROC curve for test and training data\n",
    "    fpr_test, tpr_test, thresholds_test = roc_curve(test_y, y_test_hat)\n",
    "    fpr_train, tpr_train, thresholds_train = roc_curve(train_y, y_train_hat)\n",
    "    \n",
    "    # AUC calculations\n",
    "    auc_test = auc(fpr_test, tpr_test)\n",
    "    auc_train = auc(fpr_train, tpr_train)\n",
    "    \n",
    "    # Print confusion matrix for only test data\n",
    "    cmatrix = confusion_matrix(test_y, y_test_hat)\n",
    "    ConfusionMatrixDisplay(cmatrix).plot()\n",
    "    \n",
    "    # Print all of the evaluation statistics\n",
    "    print('Model Training and Test Statistics:')\n",
    "    print('Test Precision:', test_precision)\n",
    "    print('Train Precision:', train_precision)\n",
    "    print('----------')\n",
    "    print('Test Recall:', test_recall)\n",
    "    print('Train Recall:', train_recall)\n",
    "    print('----------')\n",
    "    print('Test Accuracy:', test_accuracy)\n",
    "    print('Train Accuracy:', train_accuracy)\n",
    "    print('----------')\n",
    "    print('Test F1:', test_f1)\n",
    "    print('Train F1:', train_f1)\n",
    "    print('----------')\n",
    "    print('Test AUC:', auc_test)\n",
    "    print('Train AUC:', auc_train)"
   ]
  },
  {
   "cell_type": "code",
   "execution_count": 28,
   "metadata": {},
   "outputs": [
    {
     "name": "stdout",
     "output_type": "stream",
     "text": [
      "Model Training and Test Statistics:\n",
      "Test Precision: 0.43333333333333335\n",
      "Train Precision: 0.984375\n",
      "----------\n",
      "Test Recall: 0.37142857142857144\n",
      "Train Recall: 0.9692307692307692\n",
      "----------\n",
      "Test Accuracy: 0.8962765957446809\n",
      "Train Accuracy: 0.9946761313220941\n",
      "----------\n",
      "Test F1: 0.4\n",
      "Train F1: 0.9767441860465116\n",
      "----------\n",
      "Test AUC: 0.660787599497277\n",
      "Train AUC: 0.9836123755883035\n"
     ]
    },
    {
     "data": {
      "image/png": "[encoded data removed]",
      "text/plain": [
       "<Figure size 432x288 with 2 Axes>"
      ]
     },
     "metadata": {
      "needs_background": "light"
     },
     "output_type": "display_data"
    }
   ],
   "source": [
    "model_eval_tree(dt_vanilla, X_train, X_test, y_train, y_test)"
   ]
  },
  {
   "cell_type": "markdown",
   "metadata": {},
   "source": [
    "Even without the class imbalance fix, this model's AUC and f1 are already better than the best logistic regression. How much better will it do with the improved data?"
   ]
  },
  {
   "cell_type": "code",
   "execution_count": 29,
   "metadata": {},
   "outputs": [
    {
     "data": {
      "text/plain": [
       "DecisionTreeClassifier(criterion='entropy', random_state=42)"
      ]
     },
     "execution_count": 29,
     "metadata": {},
     "output_type": "execute_result"
    }
   ],
   "source": [
    "dt_SMOTE = DecisionTreeClassifier(random_state=SEED, criterion = 'entropy')\n",
    "dt_SMOTE.fit(X_train_resampled, y_train_resampled)"
   ]
  },
  {
   "cell_type": "code",
   "execution_count": 30,
   "metadata": {},
   "outputs": [
    {
     "name": "stdout",
     "output_type": "stream",
     "text": [
      "Model Training and Test Statistics:\n",
      "Test Precision: 0.3\n",
      "Train Precision: 0.984375\n",
      "----------\n",
      "Test Recall: 0.6\n",
      "Train Recall: 0.9692307692307692\n",
      "----------\n",
      "Test Accuracy: 0.8324468085106383\n",
      "Train Accuracy: 0.9946761313220941\n",
      "----------\n",
      "Test F1: 0.4\n",
      "Train F1: 0.9767441860465116\n",
      "----------\n",
      "Test AUC: 0.7281524926686217\n",
      "Train AUC: 0.9836123755883035\n"
     ]
    },
    {
     "data": {
      "image/png": "[encoded data removed]",
      "text/plain": [
       "<Figure size 432x288 with 2 Axes>"
      ]
     },
     "metadata": {
      "needs_background": "light"
     },
     "output_type": "display_data"
    }
   ],
   "source": [
    "model_eval_tree(dt_SMOTE, X_train, X_test, y_train, y_test)"
   ]
  },
  {
   "cell_type": "markdown",
   "metadata": {},
   "source": [
    "The performance with the engineered data is actually worse. I'm going to continue using the un-smoted data and try to reduce the overfitting issue by tweaking various hyperparameters. We are going to use a grid search algorithm to find the best combination of parameters, if it is better than the vanilla parameters. I will use 3 fold cross validation to verify the result."
   ]
  },
  {
   "cell_type": "code",
   "execution_count": 31,
   "metadata": {},
   "outputs": [],
   "source": [
    "# Create the parameter grid to be tested\n",
    "param_grid_DT = {\n",
    "    'criterion':['entropy', 'gini'],\n",
    "    'max_depth':[5, 10, 15, 20, 25, 30],\n",
    "    'min_samples_split':[0.1, 0.2, 0.3, 0.4, 0.5, 0.6, 0.7, 0.8, 0.9, 1.0, 2],\n",
    "    'min_samples_leaf':[0.1, 0.2, 0.3, 0.4, 0.5, 1]\n",
    "}"
   ]
  },
  {
   "cell_type": "code",
   "execution_count": 32,
   "metadata": {
    "scrolled": true
   },
   "outputs": [
    {
     "data": {
      "text/plain": [
       "GridSearchCV(cv=3, estimator=DecisionTreeClassifier(),\n",
       "             param_grid={'criterion': ['entropy', 'gini'],\n",
       "                         'max_depth': [5, 10, 15, 20, 25, 30],\n",
       "                         'min_samples_leaf': [0.1, 0.2, 0.3, 0.4, 0.5, 1],\n",
       "                         'min_samples_split': [0.1, 0.2, 0.3, 0.4, 0.5, 0.6,\n",
       "                                               0.7, 0.8, 0.9, 1.0, 2]},\n",
       "             refit='roc_auc', return_train_score=True,\n",
       "             scoring=['accuracy', 'roc_auc'])"
      ]
     },
     "execution_count": 32,
     "metadata": {},
     "output_type": "execute_result"
    }
   ],
   "source": [
    "DT_classifier = DecisionTreeClassifier()\n",
    "dt_grid_search = GridSearchCV(DT_classifier, param_grid_DT, cv=3, return_train_score=True, scoring=['accuracy', 'roc_auc'], refit='roc_auc')\n",
    "dt_grid_search.fit(X_train, y_train)"
   ]
  },
  {
   "cell_type": "code",
   "execution_count": 33,
   "metadata": {},
   "outputs": [
    {
     "data": {
      "text/plain": [
       "{'criterion': 'entropy',\n",
       " 'max_depth': 20,\n",
       " 'min_samples_leaf': 1,\n",
       " 'min_samples_split': 2}"
      ]
     },
     "execution_count": 33,
     "metadata": {},
     "output_type": "execute_result"
    }
   ],
   "source": [
    "dt_grid_search.best_params_"
   ]
  },
  {
   "cell_type": "markdown",
   "metadata": {},
   "source": [
    "Here are the best parameters according to the test I performed. Let's re-create the model with these parameters and check the performance."
   ]
  },
  {
   "cell_type": "code",
   "execution_count": 34,
   "metadata": {},
   "outputs": [
    {
     "name": "stdout",
     "output_type": "stream",
     "text": [
      "Model Training and Test Statistics:\n",
      "Test Precision: 0.35714285714285715\n",
      "Train Precision: 0.9833333333333333\n",
      "----------\n",
      "Test Recall: 0.42857142857142855\n",
      "Train Recall: 0.9076923076923077\n",
      "----------\n",
      "Test Accuracy: 0.875\n",
      "Train Accuracy: 0.9875776397515528\n",
      "----------\n",
      "Test F1: 0.38961038961038963\n",
      "Train F1: 0.944\n",
      "----------\n",
      "Test AUC: 0.6746962714704651\n",
      "Train AUC: 0.9528431448190726\n"
     ]
    },
    {
     "data": {
      "image/png": "[encoded data removed]",
      "text/plain": [
       "<Figure size 432x288 with 2 Axes>"
      ]
     },
     "metadata": {
      "needs_background": "light"
     },
     "output_type": "display_data"
    }
   ],
   "source": [
    "dt_best = DecisionTreeClassifier(criterion='gini', max_depth=15, min_samples_leaf=1)\n",
    "dt_best.fit(X_train, y_train)\n",
    "model_eval_tree(dt_best, X_train, X_test, y_train, y_test)"
   ]
  },
  {
   "cell_type": "markdown",
   "metadata": {},
   "source": [
    "That wasn't any better than the default model's performance. What if we try and perform the same optimization with the balanced SMOTE data?"
   ]
  },
  {
   "cell_type": "code",
   "execution_count": 35,
   "metadata": {},
   "outputs": [
    {
     "data": {
      "text/plain": [
       "GridSearchCV(cv=3, estimator=DecisionTreeClassifier(),\n",
       "             param_grid={'criterion': ['entropy', 'gini'],\n",
       "                         'max_depth': [5, 10, 15, 20, 25, 30],\n",
       "                         'min_samples_leaf': [0.1, 0.2, 0.3, 0.4, 0.5, 1],\n",
       "                         'min_samples_split': [0.1, 0.2, 0.3, 0.4, 0.5, 0.6,\n",
       "                                               0.7, 0.8, 0.9, 1.0, 2]},\n",
       "             refit='roc_auc', return_train_score=True,\n",
       "             scoring=['accuracy', 'roc_auc'])"
      ]
     },
     "execution_count": 35,
     "metadata": {},
     "output_type": "execute_result"
    }
   ],
   "source": [
    "DT_classifier = DecisionTreeClassifier()\n",
    "dt_grid_search = GridSearchCV(DT_classifier, param_grid_DT, cv=3, return_train_score=True, scoring=['accuracy', 'roc_auc'], refit='roc_auc')\n",
    "dt_grid_search.fit(X_train_resampled, y_train_resampled)"
   ]
  },
  {
   "cell_type": "code",
   "execution_count": 36,
   "metadata": {},
   "outputs": [
    {
     "data": {
      "text/plain": [
       "{'criterion': 'entropy',\n",
       " 'max_depth': 20,\n",
       " 'min_samples_leaf': 1,\n",
       " 'min_samples_split': 2}"
      ]
     },
     "execution_count": 36,
     "metadata": {},
     "output_type": "execute_result"
    }
   ],
   "source": [
    "dt_grid_search.best_params_"
   ]
  },
  {
   "cell_type": "code",
   "execution_count": 37,
   "metadata": {},
   "outputs": [
    {
     "name": "stdout",
     "output_type": "stream",
     "text": [
      "Model Training and Test Statistics:\n",
      "Test Precision: 0.22018348623853212\n",
      "Train Precision: 0.38263665594855306\n",
      "----------\n",
      "Test Recall: 0.6857142857142857\n",
      "Train Recall: 0.9153846153846154\n",
      "----------\n",
      "Test Accuracy: 0.7446808510638298\n",
      "Train Accuracy: 0.8198757763975155\n",
      "----------\n",
      "Test F1: 0.33333333333333337\n",
      "Train F1: 0.5396825396825397\n",
      "----------\n",
      "Test AUC: 0.7182237117720989\n",
      "Train AUC: 0.8614034410925082\n"
     ]
    },
    {
     "data": {
      "image/png": "[encoded data removed]",
      "text/plain": [
       "<Figure size 432x288 with 2 Axes>"
      ]
     },
     "metadata": {
      "needs_background": "light"
     },
     "output_type": "display_data"
    }
   ],
   "source": [
    "dt_best = DecisionTreeClassifier(criterion='entropy', max_depth=15, min_samples_leaf=1)\n",
    "dt_best.fit(X_train_resampled, y_train_resampled)\n",
    "model_eval_tree(dt_best, X_train, X_test, y_train, y_test)"
   ]
  },
  {
   "cell_type": "markdown",
   "metadata": {},
   "source": [
    "This performance also isn't better than the vanilla decision tree. Now, I am going to experiment with a random forest model and its parameters to see if the performance can be further improved.\n",
    "\n",
    "# Random Forest Classifier"
   ]
  },
  {
   "cell_type": "code",
   "execution_count": 38,
   "metadata": {},
   "outputs": [
    {
     "data": {
      "text/plain": [
       "RandomForestClassifier(criterion='entropy')"
      ]
     },
     "execution_count": 38,
     "metadata": {},
     "output_type": "execute_result"
    }
   ],
   "source": [
    "RF = RandomForestClassifier(criterion='entropy')\n",
    "RF.fit(X_train, y_train)"
   ]
  },
  {
   "cell_type": "code",
   "execution_count": 39,
   "metadata": {},
   "outputs": [
    {
     "data": {
      "text/plain": [
       "0.9281914893617021"
      ]
     },
     "execution_count": 39,
     "metadata": {},
     "output_type": "execute_result"
    }
   ],
   "source": [
    "RF.score(X_test, y_test)"
   ]
  },
  {
   "cell_type": "code",
   "execution_count": 40,
   "metadata": {},
   "outputs": [
    {
     "name": "stdout",
     "output_type": "stream",
     "text": [
      "Model Training and Test Statistics:\n",
      "Test Precision: 0.7857142857142857\n",
      "Train Precision: 0.9696969696969697\n",
      "----------\n",
      "Test Recall: 0.3142857142857143\n",
      "Train Recall: 0.9846153846153847\n",
      "----------\n",
      "Test Accuracy: 0.9281914893617021\n",
      "Train Accuracy: 0.9946761313220941\n",
      "----------\n",
      "Test F1: 0.44897959183673464\n",
      "Train F1: 0.9770992366412214\n",
      "----------\n",
      "Test AUC: 0.652744030163385\n",
      "Train AUC: 0.9903016742535299\n"
     ]
    },
    {
     "data": {
      "image/png": "[encoded data removed]",
      "text/plain": [
       "<Figure size 432x288 with 2 Axes>"
      ]
     },
     "metadata": {
      "needs_background": "light"
     },
     "output_type": "display_data"
    }
   ],
   "source": [
    "model_eval_tree(RF, X_train, X_test, y_train, y_test)"
   ]
  },
  {
   "cell_type": "markdown",
   "metadata": {},
   "source": [
    "These results are pretty promising. The performance of this model with the vanilla parameters is the best so far. I should experiment with the parameters to see if it can be improved!"
   ]
  },
  {
   "cell_type": "code",
   "execution_count": 41,
   "metadata": {},
   "outputs": [
    {
     "data": {
      "text/plain": [
       "RandomForestClassifier(criterion='entropy')"
      ]
     },
     "execution_count": 41,
     "metadata": {},
     "output_type": "execute_result"
    }
   ],
   "source": [
    "RF_smote = RandomForestClassifier(criterion='entropy')\n",
    "RF_smote.fit(X_train_resampled, y_train_resampled)"
   ]
  },
  {
   "cell_type": "code",
   "execution_count": 42,
   "metadata": {},
   "outputs": [
    {
     "name": "stdout",
     "output_type": "stream",
     "text": [
      "Model Training and Test Statistics:\n",
      "Test Precision: 0.55\n",
      "Train Precision: 0.9769230769230769\n",
      "----------\n",
      "Test Recall: 0.3142857142857143\n",
      "Train Recall: 0.9769230769230769\n",
      "----------\n",
      "Test Accuracy: 0.9122340425531915\n",
      "Train Accuracy: 0.9946761313220941\n",
      "----------\n",
      "Test F1: 0.4\n",
      "Train F1: 0.9769230769230769\n",
      "----------\n",
      "Test AUC: 0.6439463762044407\n",
      "Train AUC: 0.9869570249209166\n"
     ]
    },
    {
     "data": {
      "image/png": "[encoded data removed]",
      "text/plain": [
       "<Figure size 432x288 with 2 Axes>"
      ]
     },
     "metadata": {
      "needs_background": "light"
     },
     "output_type": "display_data"
    }
   ],
   "source": [
    "model_eval_tree(RF_smote, X_train, X_test, y_train, y_test)"
   ]
  },
  {
   "cell_type": "code",
   "execution_count": 43,
   "metadata": {},
   "outputs": [],
   "source": [
    "param_grid_RF = {\n",
    "    'criterion':['entropy', 'gini'],\n",
    "    'max_depth':[None, 10, 15, 20, 30],\n",
    "    'n_estimators':[10, 30, 100, 200]\n",
    "}"
   ]
  },
  {
   "cell_type": "code",
   "execution_count": 44,
   "metadata": {},
   "outputs": [
    {
     "data": {
      "text/plain": [
       "GridSearchCV(cv=3, estimator=RandomForestClassifier(),\n",
       "             param_grid={'criterion': ['entropy', 'gini'],\n",
       "                         'max_depth': [None, 10, 15, 20, 30],\n",
       "                         'n_estimators': [10, 30, 100, 200]},\n",
       "             refit='roc_auc', return_train_score=True,\n",
       "             scoring=['accuracy', 'roc_auc'])"
      ]
     },
     "execution_count": 44,
     "metadata": {},
     "output_type": "execute_result"
    }
   ],
   "source": [
    "RF_search = RandomForestClassifier()\n",
    "RF_grid_search = GridSearchCV(RF_search, param_grid_RF, cv=3, return_train_score=True, scoring=['accuracy', 'roc_auc'], refit='roc_auc')\n",
    "RF_grid_search.fit(X_train, y_train)"
   ]
  },
  {
   "cell_type": "code",
   "execution_count": 45,
   "metadata": {},
   "outputs": [
    {
     "data": {
      "text/plain": [
       "{'criterion': 'gini', 'max_depth': 30, 'n_estimators': 200}"
      ]
     },
     "execution_count": 45,
     "metadata": {},
     "output_type": "execute_result"
    }
   ],
   "source": [
    "RF_grid_search.best_params_"
   ]
  },
  {
   "cell_type": "code",
   "execution_count": 46,
   "metadata": {},
   "outputs": [
    {
     "name": "stdout",
     "output_type": "stream",
     "text": [
      "Model Training and Test Statistics:\n",
      "Test Precision: 0.8461538461538461\n",
      "Train Precision: 0.9769230769230769\n",
      "----------\n",
      "Test Recall: 0.3142857142857143\n",
      "Train Recall: 0.9769230769230769\n",
      "----------\n",
      "Test Accuracy: 0.9308510638297872\n",
      "Train Accuracy: 0.9946761313220941\n",
      "----------\n",
      "Test F1: 0.45833333333333337\n",
      "Train F1: 0.9769230769230769\n",
      "----------\n",
      "Test AUC: 0.654210305823209\n",
      "Train AUC: 0.9869570249209166\n"
     ]
    },
    {
     "data": {
      "image/png": "[encoded data removed]",
      "text/plain": [
       "<Figure size 432x288 with 2 Axes>"
      ]
     },
     "metadata": {
      "needs_background": "light"
     },
     "output_type": "display_data"
    }
   ],
   "source": [
    "model_eval_tree(RF_grid_search.best_estimator_, X_train, X_test, y_train, y_test)"
   ]
  },
  {
   "cell_type": "markdown",
   "metadata": {},
   "source": [
    "The best outcome of this grid search was the exact same as the vanilla parameters.\n",
    "\n",
    "We have determined that the random forest model is the best type of model for this problem, and a set of parameters that result in the best training outcome. We could stop here and call it good (the performance of this model is by no means perfect, but it is well specialized to the specific task it was trained for), but I can think of one way I might improve it. Let's experiment with different imbalanced resamplings of the training data.\n",
    "\n",
    "# SMOTE Experimentation"
   ]
  },
  {
   "cell_type": "code",
   "execution_count": 47,
   "metadata": {},
   "outputs": [
    {
     "data": {
      "text/plain": [
       "<matplotlib.legend.Legend at 0x1f02d1e9250>"
      ]
     },
     "execution_count": 47,
     "metadata": {},
     "output_type": "execute_result"
    },
    {
     "data": {
      "image/png": "[encoded data removed]",
      "text/plain": [
       "<Figure size 864x1728 with 3 Axes>"
      ]
     },
     "metadata": {
      "needs_background": "light"
     },
     "output_type": "display_data"
    }
   ],
   "source": [
    "ratios = [0.15, 0.2, 0.25, 0.3, 0.4, 0.45, 0.5, 0.55, 0.6, 0.7, 0.75, 0.8, 0.85, 0.9, 0.95, 1]\n",
    "\n",
    "train_accuracy = []\n",
    "train_f1 = []\n",
    "train_auc = []\n",
    "\n",
    "test_accuracy = []\n",
    "test_f1 = []\n",
    "test_auc = []\n",
    "\n",
    "for ratio in ratios:\n",
    "    X_train_resampled, y_train_resampled = SMOTE(sampling_strategy=ratio).fit_resample(X_train, y_train)\n",
    "    random_forest = RandomForestClassifier(criterion='gini', max_depth=20, n_estimators=200)\n",
    "    random_forest.fit(X_train_resampled, y_train_resampled)\n",
    "    \n",
    "    test_pred = random_forest.predict(X_test)\n",
    "    train_pred = random_forest.predict(X_train)\n",
    "    \n",
    "    test_acc = accuracy_score(y_test, test_pred)\n",
    "    test_accuracy.append(test_acc)\n",
    "    train_acc = accuracy_score(y_train, train_pred)\n",
    "    train_accuracy.append(train_acc)\n",
    "    \n",
    "    f1te = f1_score(y_test, test_pred)\n",
    "    test_f1.append(f1te)\n",
    "    f1tr = f1_score(y_train, train_pred)\n",
    "    train_f1.append(f1tr)\n",
    "    \n",
    "    fpr_test, tpr_test, thresholds_test = roc_curve(y_test, test_pred)\n",
    "    test_auc.append(auc(fpr_test, tpr_test))\n",
    "    fpr_train, tpr_train, thresholds_train = roc_curve(y_train, train_pred)\n",
    "    train_auc.append(auc(fpr_train, tpr_train))\n",
    "    \n",
    "fig, [ax1, ax2, ax3] = plt.subplots(nrows=3, figsize=(12,24))\n",
    "\n",
    "ax1.plot(ratios, train_accuracy, color='r', label='Train Accuracy')\n",
    "ax1.plot(ratios, test_accuracy, color='b', label='Test Accuracy')\n",
    "ax1.set_xlabel('Label Ratio')\n",
    "ax1.set_ylabel('Model Accuracy')\n",
    "ax1.legend()\n",
    "\n",
    "ax2.plot(ratios, train_f1, color='r', label='Train F1')\n",
    "ax2.plot(ratios, test_f1, color='b', label='Test F1')\n",
    "ax2.set_xlabel('Label Ratio')\n",
    "ax2.set_ylabel('Model F1')\n",
    "ax2.legend()\n",
    "\n",
    "ax3.plot(ratios, train_auc, color='r', label='Train AUC')\n",
    "ax3.plot(ratios, test_auc, color='b', label='Test AUC')\n",
    "ax3.set_xlabel('Label Ratio')\n",
    "ax3.set_ylabel('Model AUC')\n",
    "ax3.legend()"
   ]
  },
  {
   "cell_type": "code",
   "execution_count": 48,
   "metadata": {},
   "outputs": [],
   "source": [
    "X_train_03, y_train_03 = SMOTE(sampling_strategy=0.3).fit_resample(X_train, y_train)\n",
    "X_train_09, y_train_09 = SMOTE(sampling_strategy=0.9).fit_resample(X_train, y_train)"
   ]
  },
  {
   "cell_type": "code",
   "execution_count": 49,
   "metadata": {},
   "outputs": [
    {
     "name": "stdout",
     "output_type": "stream",
     "text": [
      "Model Training and Test Statistics:\n",
      "Test Precision: 0.6875\n",
      "Train Precision: 0.9626865671641791\n",
      "----------\n",
      "Test Recall: 0.3142857142857143\n",
      "Train Recall: 0.9923076923076923\n",
      "----------\n",
      "Test Accuracy: 0.9228723404255319\n",
      "Train Accuracy: 0.9946761313220941\n",
      "----------\n",
      "Test F1: 0.43137254901960786\n",
      "Train F1: 0.9772727272727273\n",
      "----------\n",
      "Test AUC: 0.6498114788437369\n",
      "Train AUC: 0.9936463235861431\n"
     ]
    },
    {
     "data": {
      "image/png": "[encoded data removed]",
      "text/plain": [
       "<Figure size 432x288 with 2 Axes>"
      ]
     },
     "metadata": {
      "needs_background": "light"
     },
     "output_type": "display_data"
    }
   ],
   "source": [
    "random_forest03 = RandomForestClassifier(criterion='gini', max_depth=20, n_estimators=200)\n",
    "random_forest03.fit(X_train_03, y_train_03)\n",
    "model_eval_tree(random_forest03, X_train, X_test, y_train, y_test)"
   ]
  },
  {
   "cell_type": "code",
   "execution_count": 50,
   "metadata": {},
   "outputs": [
    {
     "name": "stdout",
     "output_type": "stream",
     "text": [
      "Model Training and Test Statistics:\n",
      "Test Precision: 0.5416666666666666\n",
      "Train Precision: 0.9624060150375939\n",
      "----------\n",
      "Test Recall: 0.37142857142857144\n",
      "Train Recall: 0.9846153846153847\n",
      "----------\n",
      "Test Accuracy: 0.9122340425531915\n",
      "Train Accuracy: 0.9937888198757764\n",
      "----------\n",
      "Test F1: 0.44067796610169496\n",
      "Train F1: 0.973384030418251\n",
      "----------\n",
      "Test AUC: 0.6695852534562212\n",
      "Train AUC: 0.9898001697399893\n"
     ]
    },
    {
     "data": {
      "image/png": "[encoded data removed]",
      "text/plain": [
       "<Figure size 432x288 with 2 Axes>"
      ]
     },
     "metadata": {
      "needs_background": "light"
     },
     "output_type": "display_data"
    }
   ],
   "source": [
    "random_forest09 = RandomForestClassifier(criterion='gini', max_depth=20, n_estimators=200)\n",
    "random_forest09.fit(X_train_09, y_train_09)\n",
    "model_eval_tree(random_forest09, X_train, X_test, y_train, y_test)"
   ]
  },
  {
   "cell_type": "markdown",
   "metadata": {},
   "source": [
    "The outcome of these two models is exactly the same, and it is the best performance that we have had yet. These models maximize the number of true positives while minimizing the number of false positives, which is exactly what we want for this purpose - giving credit cards is extremely risky, just like giving any kind of loan, and banks want to minimize the amount of times they give credit cards to individuals who will not be able to pay back the debt."
   ]
  },
  {
   "cell_type": "markdown",
   "metadata": {},
   "source": [
    "# Parameter Analysis"
   ]
  },
  {
   "cell_type": "code",
   "execution_count": 54,
   "metadata": {},
   "outputs": [
    {
     "data": {
      "image/png": "[encoded data removed]",
      "text/plain": [
       "<Figure size 576x576 with 1 Axes>"
      ]
     },
     "metadata": {
      "needs_background": "light"
     },
     "output_type": "display_data"
    }
   ],
   "source": [
    "# Create a function that plots feature importances of a model. This function was inspired by a similar function in one of my flatiron school notebooks.\n",
    "def plot_feature_importances(model):\n",
    "    n_features = X_train.shape[1]\n",
    "    plt.figure(figsize=(8,8))\n",
    "    plt.barh(range(n_features), model.feature_importances_, align='center') \n",
    "    plt.yticks(np.arange(n_features), X_train.columns.values) \n",
    "    plt.xlabel('Feature importance')\n",
    "    plt.ylabel('Feature')\n",
    "\n",
    "plot_feature_importances(random_forest09)"
   ]
  },
  {
   "cell_type": "markdown",
   "metadata": {},
   "source": [
    "Based on these feature importances, we can make some recommendations about what types of individuals banks should consider approving or denying for credit cards. "
   ]
  },
  {
   "cell_type": "code",
   "execution_count": null,
   "metadata": {},
   "outputs": [],
   "source": []
  }
 ],
 "metadata": {
  "kernelspec": {
   "display_name": "Python (learn-env)",
   "language": "python",
   "name": "learn-env"
  },
  "language_info": {
   "codemirror_mode": {
    "name": "ipython",
    "version": 3
   },
   "file_extension": ".py",
   "mimetype": "text/x-python",
   "name": "python",
   "nbconvert_exporter": "python",
   "pygments_lexer": "ipython3",
   "version": "3.8.5"
  }
 },
 "nbformat": 4,
 "nbformat_minor": 4
}
